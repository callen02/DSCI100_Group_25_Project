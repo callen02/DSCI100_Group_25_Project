{
 "cells": [
  {
   "cell_type": "code",
   "execution_count": 2,
   "metadata": {},
   "outputs": [
    {
     "name": "stderr",
     "output_type": "stream",
     "text": [
      "── \u001b[1mAttaching packages\u001b[22m ─────────────────────────────────────── tidyverse 1.3.0 ──\n",
      "\n",
      "\u001b[32m✔\u001b[39m \u001b[34mggplot2\u001b[39m 3.3.2     \u001b[32m✔\u001b[39m \u001b[34mpurrr  \u001b[39m 0.3.4\n",
      "\u001b[32m✔\u001b[39m \u001b[34mtibble \u001b[39m 3.0.3     \u001b[32m✔\u001b[39m \u001b[34mdplyr  \u001b[39m 1.0.2\n",
      "\u001b[32m✔\u001b[39m \u001b[34mtidyr  \u001b[39m 1.1.2     \u001b[32m✔\u001b[39m \u001b[34mstringr\u001b[39m 1.4.0\n",
      "\u001b[32m✔\u001b[39m \u001b[34mreadr  \u001b[39m 1.3.1     \u001b[32m✔\u001b[39m \u001b[34mforcats\u001b[39m 0.5.0\n",
      "\n",
      "Warning message:\n",
      "“package ‘ggplot2’ was built under R version 4.0.1”\n",
      "Warning message:\n",
      "“package ‘tibble’ was built under R version 4.0.2”\n",
      "Warning message:\n",
      "“package ‘tidyr’ was built under R version 4.0.2”\n",
      "Warning message:\n",
      "“package ‘dplyr’ was built under R version 4.0.2”\n",
      "── \u001b[1mConflicts\u001b[22m ────────────────────────────────────────── tidyverse_conflicts() ──\n",
      "\u001b[31m✖\u001b[39m \u001b[34mdplyr\u001b[39m::\u001b[32mfilter()\u001b[39m masks \u001b[34mstats\u001b[39m::filter()\n",
      "\u001b[31m✖\u001b[39m \u001b[34mdplyr\u001b[39m::\u001b[32mlag()\u001b[39m    masks \u001b[34mstats\u001b[39m::lag()\n",
      "\n",
      "Warning message:\n",
      "“package ‘tidymodels’ was built under R version 4.0.2”\n",
      "── \u001b[1mAttaching packages\u001b[22m ────────────────────────────────────── tidymodels 0.1.1 ──\n",
      "\n",
      "\u001b[32m✔\u001b[39m \u001b[34mbroom    \u001b[39m 0.7.0      \u001b[32m✔\u001b[39m \u001b[34mrecipes  \u001b[39m 0.1.13\n",
      "\u001b[32m✔\u001b[39m \u001b[34mdials    \u001b[39m 0.0.9      \u001b[32m✔\u001b[39m \u001b[34mrsample  \u001b[39m 0.0.7 \n",
      "\u001b[32m✔\u001b[39m \u001b[34minfer    \u001b[39m 0.5.4      \u001b[32m✔\u001b[39m \u001b[34mtune     \u001b[39m 0.1.1 \n",
      "\u001b[32m✔\u001b[39m \u001b[34mmodeldata\u001b[39m 0.0.2      \u001b[32m✔\u001b[39m \u001b[34mworkflows\u001b[39m 0.2.0 \n",
      "\u001b[32m✔\u001b[39m \u001b[34mparsnip  \u001b[39m 0.1.3      \u001b[32m✔\u001b[39m \u001b[34myardstick\u001b[39m 0.0.7 \n",
      "\n",
      "Warning message:\n",
      "“package ‘broom’ was built under R version 4.0.2”\n",
      "Warning message:\n",
      "“package ‘dials’ was built under R version 4.0.2”\n",
      "Warning message:\n",
      "“package ‘infer’ was built under R version 4.0.3”\n",
      "Warning message:\n",
      "“package ‘modeldata’ was built under R version 4.0.1”\n",
      "Warning message:\n",
      "“package ‘parsnip’ was built under R version 4.0.2”\n",
      "Warning message:\n",
      "“package ‘recipes’ was built under R version 4.0.1”\n",
      "Warning message:\n",
      "“package ‘tune’ was built under R version 4.0.2”\n",
      "Warning message:\n",
      "“package ‘workflows’ was built under R version 4.0.2”\n",
      "Warning message:\n",
      "“package ‘yardstick’ was built under R version 4.0.2”\n",
      "── \u001b[1mConflicts\u001b[22m ───────────────────────────────────────── tidymodels_conflicts() ──\n",
      "\u001b[31m✖\u001b[39m \u001b[34mscales\u001b[39m::\u001b[32mdiscard()\u001b[39m masks \u001b[34mpurrr\u001b[39m::discard()\n",
      "\u001b[31m✖\u001b[39m \u001b[34mdplyr\u001b[39m::\u001b[32mfilter()\u001b[39m   masks \u001b[34mstats\u001b[39m::filter()\n",
      "\u001b[31m✖\u001b[39m \u001b[34mrecipes\u001b[39m::\u001b[32mfixed()\u001b[39m  masks \u001b[34mstringr\u001b[39m::fixed()\n",
      "\u001b[31m✖\u001b[39m \u001b[34mdplyr\u001b[39m::\u001b[32mlag()\u001b[39m      masks \u001b[34mstats\u001b[39m::lag()\n",
      "\u001b[31m✖\u001b[39m \u001b[34myardstick\u001b[39m::\u001b[32mspec()\u001b[39m masks \u001b[34mreadr\u001b[39m::spec()\n",
      "\u001b[31m✖\u001b[39m \u001b[34mrecipes\u001b[39m::\u001b[32mstep()\u001b[39m   masks \u001b[34mstats\u001b[39m::step()\n",
      "\n"
     ]
    }
   ],
   "source": [
    "library(repr)\n",
    "library(tidyverse)\n",
    "library(tidymodels)\n",
    "options(repr.matrix.max.rows = 6)"
   ]
  },
  {
   "cell_type": "code",
   "execution_count": 25,
   "metadata": {},
   "outputs": [
    {
     "name": "stderr",
     "output_type": "stream",
     "text": [
      "Parsed with column specification:\n",
      "cols(\n",
      "  .default = col_double(),\n",
      "  `Red Blood Cells` = \u001b[31mcol_character()\u001b[39m,\n",
      "  `Pus Cell` = \u001b[31mcol_character()\u001b[39m,\n",
      "  `Pus Cell clumps` = \u001b[31mcol_character()\u001b[39m,\n",
      "  Bacteria = \u001b[31mcol_character()\u001b[39m,\n",
      "  Hypertension = \u001b[31mcol_character()\u001b[39m,\n",
      "  `Diabetes Mellitus` = \u001b[31mcol_character()\u001b[39m,\n",
      "  `Coronary Artery Disease` = \u001b[31mcol_character()\u001b[39m,\n",
      "  Appetite = \u001b[31mcol_character()\u001b[39m,\n",
      "  `Pedal Edema` = \u001b[31mcol_character()\u001b[39m,\n",
      "  Anemia = \u001b[31mcol_character()\u001b[39m\n",
      ")\n",
      "\n",
      "See spec(...) for full column specifications.\n",
      "\n"
     ]
    },
    {
     "data": {
      "text/html": [
       "<table>\n",
       "<caption>A tibble: 158 × 15</caption>\n",
       "<thead>\n",
       "\t<tr><th scope=col>Age</th><th scope=col>Blood.Pressure</th><th scope=col>Specific.Gravity</th><th scope=col>Albumin</th><th scope=col>Sugar</th><th scope=col>Blood.Glucose.Random</th><th scope=col>Blood.Urea</th><th scope=col>Serum.Creatinine</th><th scope=col>Sodium</th><th scope=col>Potassium</th><th scope=col>Hemoglobin</th><th scope=col>Packed.Cell.Volume</th><th scope=col>White.Blood.Cell.Count</th><th scope=col>Red.Blood.Cell.Count</th><th scope=col>Class</th></tr>\n",
       "\t<tr><th scope=col>&lt;dbl&gt;</th><th scope=col>&lt;dbl&gt;</th><th scope=col>&lt;dbl&gt;</th><th scope=col>&lt;dbl&gt;</th><th scope=col>&lt;dbl&gt;</th><th scope=col>&lt;dbl&gt;</th><th scope=col>&lt;dbl&gt;</th><th scope=col>&lt;dbl&gt;</th><th scope=col>&lt;dbl&gt;</th><th scope=col>&lt;dbl&gt;</th><th scope=col>&lt;dbl&gt;</th><th scope=col>&lt;dbl&gt;</th><th scope=col>&lt;dbl&gt;</th><th scope=col>&lt;dbl&gt;</th><th scope=col>&lt;fct&gt;</th></tr>\n",
       "</thead>\n",
       "<tbody>\n",
       "\t<tr><td>48</td><td>70</td><td>1.005</td><td>4</td><td>0</td><td>117</td><td> 56</td><td>3.8</td><td>111</td><td>2.5</td><td>11.2</td><td>32</td><td> 6700</td><td>3.9</td><td>1</td></tr>\n",
       "\t<tr><td>53</td><td>90</td><td>1.020</td><td>2</td><td>0</td><td> 70</td><td>107</td><td>7.2</td><td>114</td><td>3.7</td><td> 9.5</td><td>29</td><td>12100</td><td>3.7</td><td>1</td></tr>\n",
       "\t<tr><td>63</td><td>70</td><td>1.010</td><td>3</td><td>0</td><td>380</td><td> 60</td><td>2.7</td><td>131</td><td>4.2</td><td>10.8</td><td>32</td><td> 4500</td><td>3.8</td><td>1</td></tr>\n",
       "\t<tr><td>⋮</td><td>⋮</td><td>⋮</td><td>⋮</td><td>⋮</td><td>⋮</td><td>⋮</td><td>⋮</td><td>⋮</td><td>⋮</td><td>⋮</td><td>⋮</td><td>⋮</td><td>⋮</td><td>⋮</td></tr>\n",
       "\t<tr><td>12</td><td>80</td><td>1.020</td><td>0</td><td>0</td><td>100</td><td>26</td><td>0.6</td><td>137</td><td>4.4</td><td>15.8</td><td>49</td><td>6600</td><td>5.4</td><td>0</td></tr>\n",
       "\t<tr><td>17</td><td>60</td><td>1.025</td><td>0</td><td>0</td><td>114</td><td>50</td><td>1.0</td><td>135</td><td>4.9</td><td>14.2</td><td>51</td><td>7200</td><td>5.9</td><td>0</td></tr>\n",
       "\t<tr><td>58</td><td>80</td><td>1.025</td><td>0</td><td>0</td><td>131</td><td>18</td><td>1.1</td><td>141</td><td>3.5</td><td>15.8</td><td>53</td><td>6800</td><td>6.1</td><td>0</td></tr>\n",
       "</tbody>\n",
       "</table>\n"
      ],
      "text/latex": [
       "A tibble: 158 × 15\n",
       "\\begin{tabular}{lllllllllllllll}\n",
       " Age & Blood.Pressure & Specific.Gravity & Albumin & Sugar & Blood.Glucose.Random & Blood.Urea & Serum.Creatinine & Sodium & Potassium & Hemoglobin & Packed.Cell.Volume & White.Blood.Cell.Count & Red.Blood.Cell.Count & Class\\\\\n",
       " <dbl> & <dbl> & <dbl> & <dbl> & <dbl> & <dbl> & <dbl> & <dbl> & <dbl> & <dbl> & <dbl> & <dbl> & <dbl> & <dbl> & <fct>\\\\\n",
       "\\hline\n",
       "\t 48 & 70 & 1.005 & 4 & 0 & 117 &  56 & 3.8 & 111 & 2.5 & 11.2 & 32 &  6700 & 3.9 & 1\\\\\n",
       "\t 53 & 90 & 1.020 & 2 & 0 &  70 & 107 & 7.2 & 114 & 3.7 &  9.5 & 29 & 12100 & 3.7 & 1\\\\\n",
       "\t 63 & 70 & 1.010 & 3 & 0 & 380 &  60 & 2.7 & 131 & 4.2 & 10.8 & 32 &  4500 & 3.8 & 1\\\\\n",
       "\t ⋮ & ⋮ & ⋮ & ⋮ & ⋮ & ⋮ & ⋮ & ⋮ & ⋮ & ⋮ & ⋮ & ⋮ & ⋮ & ⋮ & ⋮\\\\\n",
       "\t 12 & 80 & 1.020 & 0 & 0 & 100 & 26 & 0.6 & 137 & 4.4 & 15.8 & 49 & 6600 & 5.4 & 0\\\\\n",
       "\t 17 & 60 & 1.025 & 0 & 0 & 114 & 50 & 1.0 & 135 & 4.9 & 14.2 & 51 & 7200 & 5.9 & 0\\\\\n",
       "\t 58 & 80 & 1.025 & 0 & 0 & 131 & 18 & 1.1 & 141 & 3.5 & 15.8 & 53 & 6800 & 6.1 & 0\\\\\n",
       "\\end{tabular}\n"
      ],
      "text/markdown": [
       "\n",
       "A tibble: 158 × 15\n",
       "\n",
       "| Age &lt;dbl&gt; | Blood.Pressure &lt;dbl&gt; | Specific.Gravity &lt;dbl&gt; | Albumin &lt;dbl&gt; | Sugar &lt;dbl&gt; | Blood.Glucose.Random &lt;dbl&gt; | Blood.Urea &lt;dbl&gt; | Serum.Creatinine &lt;dbl&gt; | Sodium &lt;dbl&gt; | Potassium &lt;dbl&gt; | Hemoglobin &lt;dbl&gt; | Packed.Cell.Volume &lt;dbl&gt; | White.Blood.Cell.Count &lt;dbl&gt; | Red.Blood.Cell.Count &lt;dbl&gt; | Class &lt;fct&gt; |\n",
       "|---|---|---|---|---|---|---|---|---|---|---|---|---|---|---|\n",
       "| 48 | 70 | 1.005 | 4 | 0 | 117 |  56 | 3.8 | 111 | 2.5 | 11.2 | 32 |  6700 | 3.9 | 1 |\n",
       "| 53 | 90 | 1.020 | 2 | 0 |  70 | 107 | 7.2 | 114 | 3.7 |  9.5 | 29 | 12100 | 3.7 | 1 |\n",
       "| 63 | 70 | 1.010 | 3 | 0 | 380 |  60 | 2.7 | 131 | 4.2 | 10.8 | 32 |  4500 | 3.8 | 1 |\n",
       "| ⋮ | ⋮ | ⋮ | ⋮ | ⋮ | ⋮ | ⋮ | ⋮ | ⋮ | ⋮ | ⋮ | ⋮ | ⋮ | ⋮ | ⋮ |\n",
       "| 12 | 80 | 1.020 | 0 | 0 | 100 | 26 | 0.6 | 137 | 4.4 | 15.8 | 49 | 6600 | 5.4 | 0 |\n",
       "| 17 | 60 | 1.025 | 0 | 0 | 114 | 50 | 1.0 | 135 | 4.9 | 14.2 | 51 | 7200 | 5.9 | 0 |\n",
       "| 58 | 80 | 1.025 | 0 | 0 | 131 | 18 | 1.1 | 141 | 3.5 | 15.8 | 53 | 6800 | 6.1 | 0 |\n",
       "\n"
      ],
      "text/plain": [
       "    Age Blood.Pressure Specific.Gravity Albumin Sugar Blood.Glucose.Random\n",
       "1   48  70             1.005            4       0     117                 \n",
       "2   53  90             1.020            2       0      70                 \n",
       "3   63  70             1.010            3       0     380                 \n",
       "⋮   ⋮   ⋮              ⋮                ⋮       ⋮     ⋮                   \n",
       "156 12  80             1.020            0       0     100                 \n",
       "157 17  60             1.025            0       0     114                 \n",
       "158 58  80             1.025            0       0     131                 \n",
       "    Blood.Urea Serum.Creatinine Sodium Potassium Hemoglobin Packed.Cell.Volume\n",
       "1    56        3.8              111    2.5       11.2       32                \n",
       "2   107        7.2              114    3.7        9.5       29                \n",
       "3    60        2.7              131    4.2       10.8       32                \n",
       "⋮   ⋮          ⋮                ⋮      ⋮         ⋮          ⋮                 \n",
       "156 26         0.6              137    4.4       15.8       49                \n",
       "157 50         1.0              135    4.9       14.2       51                \n",
       "158 18         1.1              141    3.5       15.8       53                \n",
       "    White.Blood.Cell.Count Red.Blood.Cell.Count Class\n",
       "1    6700                  3.9                  1    \n",
       "2   12100                  3.7                  1    \n",
       "3    4500                  3.8                  1    \n",
       "⋮   ⋮                      ⋮                    ⋮    \n",
       "156 6600                   5.4                  0    \n",
       "157 7200                   5.9                  0    \n",
       "158 6800                   6.1                  0    "
      ]
     },
     "metadata": {},
     "output_type": "display_data"
    }
   ],
   "source": [
    "ckd_data <- read_csv(\"https://raw.githubusercontent.com/callen02/DSCI100_Group_25_Project/main/ckd_clean.csv\")\n",
    "names(ckd_data) <- gsub(\" \", \".\", names(ckd_data))\n",
    "#filtered out columns that are non numeric\n",
    "ckd_data_tidy <- ckd_data %>% \n",
    "            mutate(Class = as_factor(Class)) %>%\n",
    "            select(-Red.Blood.Cells, -Pus.Cell, -Pus.Cell.clumps, -Bacteria, -Hypertension, -Diabetes.Mellitus, -Appetite, -Pedal.Edema, -Coronary.Artery.Disease, - Anemia)\n",
    "ckd_data_tidy"
   ]
  },
  {
   "cell_type": "code",
   "execution_count": 88,
   "metadata": {},
   "outputs": [
    {
     "data": {
      "text/html": [
       "<table>\n",
       "<caption>A tibble: 120 × 15</caption>\n",
       "<thead>\n",
       "\t<tr><th scope=col>Age</th><th scope=col>Blood.Pressure</th><th scope=col>Specific.Gravity</th><th scope=col>Albumin</th><th scope=col>Sugar</th><th scope=col>Blood.Glucose.Random</th><th scope=col>Blood.Urea</th><th scope=col>Serum.Creatinine</th><th scope=col>Sodium</th><th scope=col>Potassium</th><th scope=col>Hemoglobin</th><th scope=col>Packed.Cell.Volume</th><th scope=col>White.Blood.Cell.Count</th><th scope=col>Red.Blood.Cell.Count</th><th scope=col>Class</th></tr>\n",
       "\t<tr><th scope=col>&lt;dbl&gt;</th><th scope=col>&lt;dbl&gt;</th><th scope=col>&lt;dbl&gt;</th><th scope=col>&lt;dbl&gt;</th><th scope=col>&lt;dbl&gt;</th><th scope=col>&lt;dbl&gt;</th><th scope=col>&lt;dbl&gt;</th><th scope=col>&lt;dbl&gt;</th><th scope=col>&lt;dbl&gt;</th><th scope=col>&lt;dbl&gt;</th><th scope=col>&lt;dbl&gt;</th><th scope=col>&lt;dbl&gt;</th><th scope=col>&lt;dbl&gt;</th><th scope=col>&lt;dbl&gt;</th><th scope=col>&lt;fct&gt;</th></tr>\n",
       "</thead>\n",
       "<tbody>\n",
       "\t<tr><td>48</td><td>70</td><td>1.005</td><td>4</td><td>0</td><td>117</td><td> 56</td><td>3.8</td><td>111</td><td>2.5</td><td>11.2</td><td>32</td><td> 6700</td><td>3.9</td><td>1</td></tr>\n",
       "\t<tr><td>53</td><td>90</td><td>1.020</td><td>2</td><td>0</td><td> 70</td><td>107</td><td>7.2</td><td>114</td><td>3.7</td><td> 9.5</td><td>29</td><td>12100</td><td>3.7</td><td>1</td></tr>\n",
       "\t<tr><td>63</td><td>70</td><td>1.010</td><td>3</td><td>0</td><td>380</td><td> 60</td><td>2.7</td><td>131</td><td>4.2</td><td>10.8</td><td>32</td><td> 4500</td><td>3.8</td><td>1</td></tr>\n",
       "\t<tr><td>⋮</td><td>⋮</td><td>⋮</td><td>⋮</td><td>⋮</td><td>⋮</td><td>⋮</td><td>⋮</td><td>⋮</td><td>⋮</td><td>⋮</td><td>⋮</td><td>⋮</td><td>⋮</td><td>⋮</td></tr>\n",
       "\t<tr><td>12</td><td>80</td><td>1.020</td><td>0</td><td>0</td><td>100</td><td>26</td><td>0.6</td><td>137</td><td>4.4</td><td>15.8</td><td>49</td><td>6600</td><td>5.4</td><td>0</td></tr>\n",
       "\t<tr><td>17</td><td>60</td><td>1.025</td><td>0</td><td>0</td><td>114</td><td>50</td><td>1.0</td><td>135</td><td>4.9</td><td>14.2</td><td>51</td><td>7200</td><td>5.9</td><td>0</td></tr>\n",
       "\t<tr><td>58</td><td>80</td><td>1.025</td><td>0</td><td>0</td><td>131</td><td>18</td><td>1.1</td><td>141</td><td>3.5</td><td>15.8</td><td>53</td><td>6800</td><td>6.1</td><td>0</td></tr>\n",
       "</tbody>\n",
       "</table>\n"
      ],
      "text/latex": [
       "A tibble: 120 × 15\n",
       "\\begin{tabular}{lllllllllllllll}\n",
       " Age & Blood.Pressure & Specific.Gravity & Albumin & Sugar & Blood.Glucose.Random & Blood.Urea & Serum.Creatinine & Sodium & Potassium & Hemoglobin & Packed.Cell.Volume & White.Blood.Cell.Count & Red.Blood.Cell.Count & Class\\\\\n",
       " <dbl> & <dbl> & <dbl> & <dbl> & <dbl> & <dbl> & <dbl> & <dbl> & <dbl> & <dbl> & <dbl> & <dbl> & <dbl> & <dbl> & <fct>\\\\\n",
       "\\hline\n",
       "\t 48 & 70 & 1.005 & 4 & 0 & 117 &  56 & 3.8 & 111 & 2.5 & 11.2 & 32 &  6700 & 3.9 & 1\\\\\n",
       "\t 53 & 90 & 1.020 & 2 & 0 &  70 & 107 & 7.2 & 114 & 3.7 &  9.5 & 29 & 12100 & 3.7 & 1\\\\\n",
       "\t 63 & 70 & 1.010 & 3 & 0 & 380 &  60 & 2.7 & 131 & 4.2 & 10.8 & 32 &  4500 & 3.8 & 1\\\\\n",
       "\t ⋮ & ⋮ & ⋮ & ⋮ & ⋮ & ⋮ & ⋮ & ⋮ & ⋮ & ⋮ & ⋮ & ⋮ & ⋮ & ⋮ & ⋮\\\\\n",
       "\t 12 & 80 & 1.020 & 0 & 0 & 100 & 26 & 0.6 & 137 & 4.4 & 15.8 & 49 & 6600 & 5.4 & 0\\\\\n",
       "\t 17 & 60 & 1.025 & 0 & 0 & 114 & 50 & 1.0 & 135 & 4.9 & 14.2 & 51 & 7200 & 5.9 & 0\\\\\n",
       "\t 58 & 80 & 1.025 & 0 & 0 & 131 & 18 & 1.1 & 141 & 3.5 & 15.8 & 53 & 6800 & 6.1 & 0\\\\\n",
       "\\end{tabular}\n"
      ],
      "text/markdown": [
       "\n",
       "A tibble: 120 × 15\n",
       "\n",
       "| Age &lt;dbl&gt; | Blood.Pressure &lt;dbl&gt; | Specific.Gravity &lt;dbl&gt; | Albumin &lt;dbl&gt; | Sugar &lt;dbl&gt; | Blood.Glucose.Random &lt;dbl&gt; | Blood.Urea &lt;dbl&gt; | Serum.Creatinine &lt;dbl&gt; | Sodium &lt;dbl&gt; | Potassium &lt;dbl&gt; | Hemoglobin &lt;dbl&gt; | Packed.Cell.Volume &lt;dbl&gt; | White.Blood.Cell.Count &lt;dbl&gt; | Red.Blood.Cell.Count &lt;dbl&gt; | Class &lt;fct&gt; |\n",
       "|---|---|---|---|---|---|---|---|---|---|---|---|---|---|---|\n",
       "| 48 | 70 | 1.005 | 4 | 0 | 117 |  56 | 3.8 | 111 | 2.5 | 11.2 | 32 |  6700 | 3.9 | 1 |\n",
       "| 53 | 90 | 1.020 | 2 | 0 |  70 | 107 | 7.2 | 114 | 3.7 |  9.5 | 29 | 12100 | 3.7 | 1 |\n",
       "| 63 | 70 | 1.010 | 3 | 0 | 380 |  60 | 2.7 | 131 | 4.2 | 10.8 | 32 |  4500 | 3.8 | 1 |\n",
       "| ⋮ | ⋮ | ⋮ | ⋮ | ⋮ | ⋮ | ⋮ | ⋮ | ⋮ | ⋮ | ⋮ | ⋮ | ⋮ | ⋮ | ⋮ |\n",
       "| 12 | 80 | 1.020 | 0 | 0 | 100 | 26 | 0.6 | 137 | 4.4 | 15.8 | 49 | 6600 | 5.4 | 0 |\n",
       "| 17 | 60 | 1.025 | 0 | 0 | 114 | 50 | 1.0 | 135 | 4.9 | 14.2 | 51 | 7200 | 5.9 | 0 |\n",
       "| 58 | 80 | 1.025 | 0 | 0 | 131 | 18 | 1.1 | 141 | 3.5 | 15.8 | 53 | 6800 | 6.1 | 0 |\n",
       "\n"
      ],
      "text/plain": [
       "    Age Blood.Pressure Specific.Gravity Albumin Sugar Blood.Glucose.Random\n",
       "1   48  70             1.005            4       0     117                 \n",
       "2   53  90             1.020            2       0      70                 \n",
       "3   63  70             1.010            3       0     380                 \n",
       "⋮   ⋮   ⋮              ⋮                ⋮       ⋮     ⋮                   \n",
       "118 12  80             1.020            0       0     100                 \n",
       "119 17  60             1.025            0       0     114                 \n",
       "120 58  80             1.025            0       0     131                 \n",
       "    Blood.Urea Serum.Creatinine Sodium Potassium Hemoglobin Packed.Cell.Volume\n",
       "1    56        3.8              111    2.5       11.2       32                \n",
       "2   107        7.2              114    3.7        9.5       29                \n",
       "3    60        2.7              131    4.2       10.8       32                \n",
       "⋮   ⋮          ⋮                ⋮      ⋮         ⋮          ⋮                 \n",
       "118 26         0.6              137    4.4       15.8       49                \n",
       "119 50         1.0              135    4.9       14.2       51                \n",
       "120 18         1.1              141    3.5       15.8       53                \n",
       "    White.Blood.Cell.Count Red.Blood.Cell.Count Class\n",
       "1    6700                  3.9                  1    \n",
       "2   12100                  3.7                  1    \n",
       "3    4500                  3.8                  1    \n",
       "⋮   ⋮                      ⋮                    ⋮    \n",
       "118 6600                   5.4                  0    \n",
       "119 7200                   5.9                  0    \n",
       "120 6800                   6.1                  0    "
      ]
     },
     "metadata": {},
     "output_type": "display_data"
    },
    {
     "data": {
      "text/html": [
       "<table>\n",
       "<caption>A tibble: 38 × 15</caption>\n",
       "<thead>\n",
       "\t<tr><th scope=col>Age</th><th scope=col>Blood.Pressure</th><th scope=col>Specific.Gravity</th><th scope=col>Albumin</th><th scope=col>Sugar</th><th scope=col>Blood.Glucose.Random</th><th scope=col>Blood.Urea</th><th scope=col>Serum.Creatinine</th><th scope=col>Sodium</th><th scope=col>Potassium</th><th scope=col>Hemoglobin</th><th scope=col>Packed.Cell.Volume</th><th scope=col>White.Blood.Cell.Count</th><th scope=col>Red.Blood.Cell.Count</th><th scope=col>Class</th></tr>\n",
       "\t<tr><th scope=col>&lt;dbl&gt;</th><th scope=col>&lt;dbl&gt;</th><th scope=col>&lt;dbl&gt;</th><th scope=col>&lt;dbl&gt;</th><th scope=col>&lt;dbl&gt;</th><th scope=col>&lt;dbl&gt;</th><th scope=col>&lt;dbl&gt;</th><th scope=col>&lt;dbl&gt;</th><th scope=col>&lt;dbl&gt;</th><th scope=col>&lt;dbl&gt;</th><th scope=col>&lt;dbl&gt;</th><th scope=col>&lt;dbl&gt;</th><th scope=col>&lt;dbl&gt;</th><th scope=col>&lt;dbl&gt;</th><th scope=col>&lt;fct&gt;</th></tr>\n",
       "</thead>\n",
       "<tbody>\n",
       "\t<tr><td>69</td><td>70</td><td>1.01</td><td>3</td><td>4</td><td>264</td><td> 87</td><td>2.7</td><td>130</td><td>4.0</td><td>12.5</td><td>37</td><td> 9600</td><td>4.1</td><td>1</td></tr>\n",
       "\t<tr><td>73</td><td>80</td><td>1.02</td><td>2</td><td>0</td><td>253</td><td>142</td><td>4.6</td><td>138</td><td>5.8</td><td>10.5</td><td>33</td><td> 7200</td><td>4.3</td><td>1</td></tr>\n",
       "\t<tr><td>46</td><td>60</td><td>1.01</td><td>1</td><td>0</td><td>163</td><td> 92</td><td>3.3</td><td>141</td><td>4.0</td><td> 9.8</td><td>28</td><td>14600</td><td>3.2</td><td>1</td></tr>\n",
       "\t<tr><td>⋮</td><td>⋮</td><td>⋮</td><td>⋮</td><td>⋮</td><td>⋮</td><td>⋮</td><td>⋮</td><td>⋮</td><td>⋮</td><td>⋮</td><td>⋮</td><td>⋮</td><td>⋮</td><td>⋮</td></tr>\n",
       "\t<tr><td>15</td><td>80</td><td>1.025</td><td>0</td><td>0</td><td> 93</td><td>17</td><td>0.9</td><td>136</td><td>3.9</td><td>16.7</td><td>50</td><td>6200</td><td>5.2</td><td>0</td></tr>\n",
       "\t<tr><td>50</td><td>80</td><td>1.020</td><td>0</td><td>0</td><td>137</td><td>46</td><td>0.8</td><td>139</td><td>5.0</td><td>14.1</td><td>45</td><td>9500</td><td>4.6</td><td>0</td></tr>\n",
       "\t<tr><td>42</td><td>70</td><td>1.025</td><td>0</td><td>0</td><td> 75</td><td>31</td><td>1.2</td><td>141</td><td>3.5</td><td>16.5</td><td>54</td><td>7800</td><td>6.2</td><td>0</td></tr>\n",
       "</tbody>\n",
       "</table>\n"
      ],
      "text/latex": [
       "A tibble: 38 × 15\n",
       "\\begin{tabular}{lllllllllllllll}\n",
       " Age & Blood.Pressure & Specific.Gravity & Albumin & Sugar & Blood.Glucose.Random & Blood.Urea & Serum.Creatinine & Sodium & Potassium & Hemoglobin & Packed.Cell.Volume & White.Blood.Cell.Count & Red.Blood.Cell.Count & Class\\\\\n",
       " <dbl> & <dbl> & <dbl> & <dbl> & <dbl> & <dbl> & <dbl> & <dbl> & <dbl> & <dbl> & <dbl> & <dbl> & <dbl> & <dbl> & <fct>\\\\\n",
       "\\hline\n",
       "\t 69 & 70 & 1.01 & 3 & 4 & 264 &  87 & 2.7 & 130 & 4.0 & 12.5 & 37 &  9600 & 4.1 & 1\\\\\n",
       "\t 73 & 80 & 1.02 & 2 & 0 & 253 & 142 & 4.6 & 138 & 5.8 & 10.5 & 33 &  7200 & 4.3 & 1\\\\\n",
       "\t 46 & 60 & 1.01 & 1 & 0 & 163 &  92 & 3.3 & 141 & 4.0 &  9.8 & 28 & 14600 & 3.2 & 1\\\\\n",
       "\t ⋮ & ⋮ & ⋮ & ⋮ & ⋮ & ⋮ & ⋮ & ⋮ & ⋮ & ⋮ & ⋮ & ⋮ & ⋮ & ⋮ & ⋮\\\\\n",
       "\t 15 & 80 & 1.025 & 0 & 0 &  93 & 17 & 0.9 & 136 & 3.9 & 16.7 & 50 & 6200 & 5.2 & 0\\\\\n",
       "\t 50 & 80 & 1.020 & 0 & 0 & 137 & 46 & 0.8 & 139 & 5.0 & 14.1 & 45 & 9500 & 4.6 & 0\\\\\n",
       "\t 42 & 70 & 1.025 & 0 & 0 &  75 & 31 & 1.2 & 141 & 3.5 & 16.5 & 54 & 7800 & 6.2 & 0\\\\\n",
       "\\end{tabular}\n"
      ],
      "text/markdown": [
       "\n",
       "A tibble: 38 × 15\n",
       "\n",
       "| Age &lt;dbl&gt; | Blood.Pressure &lt;dbl&gt; | Specific.Gravity &lt;dbl&gt; | Albumin &lt;dbl&gt; | Sugar &lt;dbl&gt; | Blood.Glucose.Random &lt;dbl&gt; | Blood.Urea &lt;dbl&gt; | Serum.Creatinine &lt;dbl&gt; | Sodium &lt;dbl&gt; | Potassium &lt;dbl&gt; | Hemoglobin &lt;dbl&gt; | Packed.Cell.Volume &lt;dbl&gt; | White.Blood.Cell.Count &lt;dbl&gt; | Red.Blood.Cell.Count &lt;dbl&gt; | Class &lt;fct&gt; |\n",
       "|---|---|---|---|---|---|---|---|---|---|---|---|---|---|---|\n",
       "| 69 | 70 | 1.01 | 3 | 4 | 264 |  87 | 2.7 | 130 | 4.0 | 12.5 | 37 |  9600 | 4.1 | 1 |\n",
       "| 73 | 80 | 1.02 | 2 | 0 | 253 | 142 | 4.6 | 138 | 5.8 | 10.5 | 33 |  7200 | 4.3 | 1 |\n",
       "| 46 | 60 | 1.01 | 1 | 0 | 163 |  92 | 3.3 | 141 | 4.0 |  9.8 | 28 | 14600 | 3.2 | 1 |\n",
       "| ⋮ | ⋮ | ⋮ | ⋮ | ⋮ | ⋮ | ⋮ | ⋮ | ⋮ | ⋮ | ⋮ | ⋮ | ⋮ | ⋮ | ⋮ |\n",
       "| 15 | 80 | 1.025 | 0 | 0 |  93 | 17 | 0.9 | 136 | 3.9 | 16.7 | 50 | 6200 | 5.2 | 0 |\n",
       "| 50 | 80 | 1.020 | 0 | 0 | 137 | 46 | 0.8 | 139 | 5.0 | 14.1 | 45 | 9500 | 4.6 | 0 |\n",
       "| 42 | 70 | 1.025 | 0 | 0 |  75 | 31 | 1.2 | 141 | 3.5 | 16.5 | 54 | 7800 | 6.2 | 0 |\n",
       "\n"
      ],
      "text/plain": [
       "   Age Blood.Pressure Specific.Gravity Albumin Sugar Blood.Glucose.Random\n",
       "1  69  70             1.01             3       4     264                 \n",
       "2  73  80             1.02             2       0     253                 \n",
       "3  46  60             1.01             1       0     163                 \n",
       "⋮  ⋮   ⋮              ⋮                ⋮       ⋮     ⋮                   \n",
       "36 15  80             1.025            0       0      93                 \n",
       "37 50  80             1.020            0       0     137                 \n",
       "38 42  70             1.025            0       0      75                 \n",
       "   Blood.Urea Serum.Creatinine Sodium Potassium Hemoglobin Packed.Cell.Volume\n",
       "1   87        2.7              130    4.0       12.5       37                \n",
       "2  142        4.6              138    5.8       10.5       33                \n",
       "3   92        3.3              141    4.0        9.8       28                \n",
       "⋮  ⋮          ⋮                ⋮      ⋮         ⋮          ⋮                 \n",
       "36 17         0.9              136    3.9       16.7       50                \n",
       "37 46         0.8              139    5.0       14.1       45                \n",
       "38 31         1.2              141    3.5       16.5       54                \n",
       "   White.Blood.Cell.Count Red.Blood.Cell.Count Class\n",
       "1   9600                  4.1                  1    \n",
       "2   7200                  4.3                  1    \n",
       "3  14600                  3.2                  1    \n",
       "⋮  ⋮                      ⋮                    ⋮    \n",
       "36 6200                   5.2                  0    \n",
       "37 9500                   4.6                  0    \n",
       "38 7800                   6.2                  0    "
      ]
     },
     "metadata": {},
     "output_type": "display_data"
    }
   ],
   "source": [
    "#training and testing data, # class means whether they have CKD or not. 1 = Yes, 0 = No\n",
    "set.seed(123)\n",
    "ckd_split <- initial_split(ckd_data_tidy, prop = 0.75, strata = Class)\n",
    "ckd_training <- training(ckd_split)\n",
    "ckd_testing <- testing(ckd_split)\n",
    "\n",
    "ckd_training\n",
    "ckd_testing"
   ]
  },
  {
   "cell_type": "code",
   "execution_count": 101,
   "metadata": {},
   "outputs": [
    {
     "data": {
      "text/plain": [
       "Data Recipe\n",
       "\n",
       "Inputs:\n",
       "\n",
       "      role #variables\n",
       "   outcome          1\n",
       " predictor          5\n",
       "\n",
       "Operations:\n",
       "\n",
       "Scaling for all_predictors()\n",
       "Centering for all_predictors()"
      ]
     },
     "metadata": {},
     "output_type": "display_data"
    }
   ],
   "source": [
    "#Recipe\n",
    "#selection of variables of what I imagine is of more imporant when determining CKD\n",
    "ckd_recipe <- recipe(Class ~ Blood.Pressure + Albumin + Age + Blood.Glucose.Random + \n",
    "                     Blood.Urea, data = ckd_training) %>%\n",
    "            step_scale(all_predictors()) %>%\n",
    "            step_center(all_predictors())\n",
    "ckd_recipe"
   ]
  },
  {
   "cell_type": "code",
   "execution_count": 102,
   "metadata": {},
   "outputs": [
    {
     "data": {
      "text/plain": [
       "K-Nearest Neighbor Model Specification (classification)\n",
       "\n",
       "Main Arguments:\n",
       "  neighbors = tune()\n",
       "  weight_func = rectangular\n",
       "\n",
       "Computational engine: kknn \n"
      ]
     },
     "metadata": {},
     "output_type": "display_data"
    }
   ],
   "source": [
    "#Model that helps find the optimal K value\n",
    "ckd_spec <- nearest_neighbor(weight_func = \"rectangular\", neighbors = tune()) %>%\n",
    "       set_engine(\"kknn\") %>%\n",
    "       set_mode(\"classification\")\n",
    "ckd_spec"
   ]
  },
  {
   "cell_type": "code",
   "execution_count": 103,
   "metadata": {},
   "outputs": [],
   "source": [
    "#10 V-fold function\n",
    "ckd_vfold <- vfold_cv(ckd_training, v = 10, strata = Class)"
   ]
  },
  {
   "cell_type": "code",
   "execution_count": 104,
   "metadata": {},
   "outputs": [
    {
     "data": {
      "text/html": [
       "<table>\n",
       "<caption>A tibble: 20 × 7</caption>\n",
       "<thead>\n",
       "\t<tr><th scope=col>neighbors</th><th scope=col>.metric</th><th scope=col>.estimator</th><th scope=col>mean</th><th scope=col>n</th><th scope=col>std_err</th><th scope=col>.config</th></tr>\n",
       "\t<tr><th scope=col>&lt;int&gt;</th><th scope=col>&lt;chr&gt;</th><th scope=col>&lt;chr&gt;</th><th scope=col>&lt;dbl&gt;</th><th scope=col>&lt;int&gt;</th><th scope=col>&lt;dbl&gt;</th><th scope=col>&lt;chr&gt;</th></tr>\n",
       "</thead>\n",
       "<tbody>\n",
       "\t<tr><td>2</td><td>accuracy</td><td>binary</td><td>0.9742424</td><td>10</td><td>0.018076293</td><td>Model01</td></tr>\n",
       "\t<tr><td>2</td><td>roc_auc </td><td>binary</td><td>0.9796296</td><td>10</td><td>0.016666667</td><td>Model01</td></tr>\n",
       "\t<tr><td>3</td><td>accuracy</td><td>binary</td><td>0.9909091</td><td>10</td><td>0.009090909</td><td>Model02</td></tr>\n",
       "\t<tr><td>⋮</td><td>⋮</td><td>⋮</td><td>⋮</td><td>⋮</td><td>⋮</td><td>⋮</td></tr>\n",
       "\t<tr><td>13</td><td>roc_auc </td><td>binary</td><td>0.9833333</td><td>10</td><td>0.01666667</td><td>Model09</td></tr>\n",
       "\t<tr><td>15</td><td>accuracy</td><td>binary</td><td>0.9414336</td><td>10</td><td>0.01286524</td><td>Model10</td></tr>\n",
       "\t<tr><td>15</td><td>roc_auc </td><td>binary</td><td>0.9833333</td><td>10</td><td>0.01666667</td><td>Model10</td></tr>\n",
       "</tbody>\n",
       "</table>\n"
      ],
      "text/latex": [
       "A tibble: 20 × 7\n",
       "\\begin{tabular}{lllllll}\n",
       " neighbors & .metric & .estimator & mean & n & std\\_err & .config\\\\\n",
       " <int> & <chr> & <chr> & <dbl> & <int> & <dbl> & <chr>\\\\\n",
       "\\hline\n",
       "\t 2 & accuracy & binary & 0.9742424 & 10 & 0.018076293 & Model01\\\\\n",
       "\t 2 & roc\\_auc  & binary & 0.9796296 & 10 & 0.016666667 & Model01\\\\\n",
       "\t 3 & accuracy & binary & 0.9909091 & 10 & 0.009090909 & Model02\\\\\n",
       "\t ⋮ & ⋮ & ⋮ & ⋮ & ⋮ & ⋮ & ⋮\\\\\n",
       "\t 13 & roc\\_auc  & binary & 0.9833333 & 10 & 0.01666667 & Model09\\\\\n",
       "\t 15 & accuracy & binary & 0.9414336 & 10 & 0.01286524 & Model10\\\\\n",
       "\t 15 & roc\\_auc  & binary & 0.9833333 & 10 & 0.01666667 & Model10\\\\\n",
       "\\end{tabular}\n"
      ],
      "text/markdown": [
       "\n",
       "A tibble: 20 × 7\n",
       "\n",
       "| neighbors &lt;int&gt; | .metric &lt;chr&gt; | .estimator &lt;chr&gt; | mean &lt;dbl&gt; | n &lt;int&gt; | std_err &lt;dbl&gt; | .config &lt;chr&gt; |\n",
       "|---|---|---|---|---|---|---|\n",
       "| 2 | accuracy | binary | 0.9742424 | 10 | 0.018076293 | Model01 |\n",
       "| 2 | roc_auc  | binary | 0.9796296 | 10 | 0.016666667 | Model01 |\n",
       "| 3 | accuracy | binary | 0.9909091 | 10 | 0.009090909 | Model02 |\n",
       "| ⋮ | ⋮ | ⋮ | ⋮ | ⋮ | ⋮ | ⋮ |\n",
       "| 13 | roc_auc  | binary | 0.9833333 | 10 | 0.01666667 | Model09 |\n",
       "| 15 | accuracy | binary | 0.9414336 | 10 | 0.01286524 | Model10 |\n",
       "| 15 | roc_auc  | binary | 0.9833333 | 10 | 0.01666667 | Model10 |\n",
       "\n"
      ],
      "text/plain": [
       "   neighbors .metric  .estimator mean      n  std_err     .config\n",
       "1  2         accuracy binary     0.9742424 10 0.018076293 Model01\n",
       "2  2         roc_auc  binary     0.9796296 10 0.016666667 Model01\n",
       "3  3         accuracy binary     0.9909091 10 0.009090909 Model02\n",
       "⋮  ⋮         ⋮        ⋮          ⋮         ⋮  ⋮           ⋮      \n",
       "18 13        roc_auc  binary     0.9833333 10 0.01666667  Model09\n",
       "19 15        accuracy binary     0.9414336 10 0.01286524  Model10\n",
       "20 15        roc_auc  binary     0.9833333 10 0.01666667  Model10"
      ]
     },
     "metadata": {},
     "output_type": "display_data"
    }
   ],
   "source": [
    "#Workflow, honestly don't know if it is correct\n",
    "ckd_workflow <- workflow() %>%\n",
    "            add_recipe(ckd_recipe) %>%\n",
    "            add_model(ckd_spec) %>%\n",
    "            tune_grid(resamples = ckd_vfold, grid = 10) %>%\n",
    "            collect_metrics()\n",
    "            \n",
    "ckd_workflow\n",
    "            "
   ]
  },
  {
   "cell_type": "code",
   "execution_count": 105,
   "metadata": {},
   "outputs": [
    {
     "data": {
      "text/html": [
       "<table>\n",
       "<caption>A tibble: 10 × 7</caption>\n",
       "<thead>\n",
       "\t<tr><th scope=col>neighbors</th><th scope=col>.metric</th><th scope=col>.estimator</th><th scope=col>mean</th><th scope=col>n</th><th scope=col>std_err</th><th scope=col>.config</th></tr>\n",
       "\t<tr><th scope=col>&lt;int&gt;</th><th scope=col>&lt;chr&gt;</th><th scope=col>&lt;chr&gt;</th><th scope=col>&lt;dbl&gt;</th><th scope=col>&lt;int&gt;</th><th scope=col>&lt;dbl&gt;</th><th scope=col>&lt;chr&gt;</th></tr>\n",
       "</thead>\n",
       "<tbody>\n",
       "\t<tr><td>2</td><td>accuracy</td><td>binary</td><td>0.9742424</td><td>10</td><td>0.018076293</td><td>Model01</td></tr>\n",
       "\t<tr><td>3</td><td>accuracy</td><td>binary</td><td>0.9909091</td><td>10</td><td>0.009090909</td><td>Model02</td></tr>\n",
       "\t<tr><td>4</td><td>accuracy</td><td>binary</td><td>0.9909091</td><td>10</td><td>0.009090909</td><td>Model03</td></tr>\n",
       "\t<tr><td>⋮</td><td>⋮</td><td>⋮</td><td>⋮</td><td>⋮</td><td>⋮</td><td>⋮</td></tr>\n",
       "\t<tr><td>11</td><td>accuracy</td><td>binary</td><td>0.9491259</td><td>10</td><td>0.01390350</td><td>Model08</td></tr>\n",
       "\t<tr><td>13</td><td>accuracy</td><td>binary</td><td>0.9491259</td><td>10</td><td>0.01390350</td><td>Model09</td></tr>\n",
       "\t<tr><td>15</td><td>accuracy</td><td>binary</td><td>0.9414336</td><td>10</td><td>0.01286524</td><td>Model10</td></tr>\n",
       "</tbody>\n",
       "</table>\n"
      ],
      "text/latex": [
       "A tibble: 10 × 7\n",
       "\\begin{tabular}{lllllll}\n",
       " neighbors & .metric & .estimator & mean & n & std\\_err & .config\\\\\n",
       " <int> & <chr> & <chr> & <dbl> & <int> & <dbl> & <chr>\\\\\n",
       "\\hline\n",
       "\t 2 & accuracy & binary & 0.9742424 & 10 & 0.018076293 & Model01\\\\\n",
       "\t 3 & accuracy & binary & 0.9909091 & 10 & 0.009090909 & Model02\\\\\n",
       "\t 4 & accuracy & binary & 0.9909091 & 10 & 0.009090909 & Model03\\\\\n",
       "\t ⋮ & ⋮ & ⋮ & ⋮ & ⋮ & ⋮ & ⋮\\\\\n",
       "\t 11 & accuracy & binary & 0.9491259 & 10 & 0.01390350 & Model08\\\\\n",
       "\t 13 & accuracy & binary & 0.9491259 & 10 & 0.01390350 & Model09\\\\\n",
       "\t 15 & accuracy & binary & 0.9414336 & 10 & 0.01286524 & Model10\\\\\n",
       "\\end{tabular}\n"
      ],
      "text/markdown": [
       "\n",
       "A tibble: 10 × 7\n",
       "\n",
       "| neighbors &lt;int&gt; | .metric &lt;chr&gt; | .estimator &lt;chr&gt; | mean &lt;dbl&gt; | n &lt;int&gt; | std_err &lt;dbl&gt; | .config &lt;chr&gt; |\n",
       "|---|---|---|---|---|---|---|\n",
       "| 2 | accuracy | binary | 0.9742424 | 10 | 0.018076293 | Model01 |\n",
       "| 3 | accuracy | binary | 0.9909091 | 10 | 0.009090909 | Model02 |\n",
       "| 4 | accuracy | binary | 0.9909091 | 10 | 0.009090909 | Model03 |\n",
       "| ⋮ | ⋮ | ⋮ | ⋮ | ⋮ | ⋮ | ⋮ |\n",
       "| 11 | accuracy | binary | 0.9491259 | 10 | 0.01390350 | Model08 |\n",
       "| 13 | accuracy | binary | 0.9491259 | 10 | 0.01390350 | Model09 |\n",
       "| 15 | accuracy | binary | 0.9414336 | 10 | 0.01286524 | Model10 |\n",
       "\n"
      ],
      "text/plain": [
       "   neighbors .metric  .estimator mean      n  std_err     .config\n",
       "1  2         accuracy binary     0.9742424 10 0.018076293 Model01\n",
       "2  3         accuracy binary     0.9909091 10 0.009090909 Model02\n",
       "3  4         accuracy binary     0.9909091 10 0.009090909 Model03\n",
       "⋮  ⋮         ⋮        ⋮          ⋮         ⋮  ⋮           ⋮      \n",
       "8  11        accuracy binary     0.9491259 10 0.01390350  Model08\n",
       "9  13        accuracy binary     0.9491259 10 0.01390350  Model09\n",
       "10 15        accuracy binary     0.9414336 10 0.01286524  Model10"
      ]
     },
     "metadata": {},
     "output_type": "display_data"
    }
   ],
   "source": [
    "#Filter for accuracy\n",
    "ckd_accuracy <- ckd_workflow %>%\n",
    "                 filter(.metric == \"accuracy\")\n",
    "ckd_accuracy"
   ]
  },
  {
   "cell_type": "code",
   "execution_count": 106,
   "metadata": {},
   "outputs": [
    {
     "data": {
      "image/png": "[encoded data removed]",
      "text/plain": [
       "plot without title"
      ]
     },
     "metadata": {
      "image/png": {
       "height": 420,
       "width": 420
      }
     },
     "output_type": "display_data"
    }
   ],
   "source": [
    "#Plot to find the optimal K\n",
    "cross_val_plot <- ckd_accuracy %>%\n",
    "                  ggplot(aes(x= neighbors, y = mean)) +\n",
    "                  geom_point() +\n",
    "                  geom_line() +\n",
    "                  labs(x = \"Neighbors Count\", y = \"Accuracy\", title = \"Neighbors Count vs Accuracy\")\n",
    "\n",
    "cross_val_plot"
   ]
  },
  {
   "cell_type": "code",
   "execution_count": 111,
   "metadata": {},
   "outputs": [
    {
     "data": {
      "text/plain": [
       "K-Nearest Neighbor Model Specification (classification)\n",
       "\n",
       "Main Arguments:\n",
       "  neighbors = 4\n",
       "  weight_func = rectangular\n",
       "\n",
       "Computational engine: kknn \n"
      ]
     },
     "metadata": {},
     "output_type": "display_data"
    }
   ],
   "source": [
    "#Model with optimal k value\n",
    "ckd_optimal_k <- nearest_neighbor(weight_func = \"rectangular\", neighbor = 4) %>%\n",
    "                set_engine(\"kknn\") %>%\n",
    "                set_mode(\"classification\")\n",
    "\n",
    "ckd_optimal_k\n",
    "            "
   ]
  },
  {
   "cell_type": "code",
   "execution_count": 112,
   "metadata": {},
   "outputs": [
    {
     "data": {
      "text/plain": [
       "══ Workflow [trained] ══════════════════════════════════════════════════════════\n",
       "\u001b[3mPreprocessor:\u001b[23m Recipe\n",
       "\u001b[3mModel:\u001b[23m nearest_neighbor()\n",
       "\n",
       "── Preprocessor ────────────────────────────────────────────────────────────────\n",
       "2 Recipe Steps\n",
       "\n",
       "● step_scale()\n",
       "● step_center()\n",
       "\n",
       "── Model ───────────────────────────────────────────────────────────────────────\n",
       "\n",
       "Call:\n",
       "kknn::train.kknn(formula = ..y ~ ., data = data, ks = ~4, kernel = ~\"rectangular\")\n",
       "\n",
       "Type of response variable: nominal\n",
       "Minimal misclassification: 0.01666667\n",
       "Best kernel: rectangular\n",
       "Best k: 4"
      ]
     },
     "metadata": {},
     "output_type": "display_data"
    }
   ],
   "source": [
    "#Fitted Model\n",
    "ckd_fit <- workflow() %>%\n",
    "             add_recipe(ckd_recipe) %>%\n",
    "             add_model(ckd_optimal_k) %>%\n",
    "             fit(data = ckd_training)\n",
    "\n",
    "ckd_fit"
   ]
  },
  {
   "cell_type": "code",
   "execution_count": 113,
   "metadata": {},
   "outputs": [
    {
     "data": {
      "text/html": [
       "<table>\n",
       "<caption>A tibble: 38 × 16</caption>\n",
       "<thead>\n",
       "\t<tr><th scope=col>.pred_class</th><th scope=col>Age</th><th scope=col>Blood.Pressure</th><th scope=col>Specific.Gravity</th><th scope=col>Albumin</th><th scope=col>Sugar</th><th scope=col>Blood.Glucose.Random</th><th scope=col>Blood.Urea</th><th scope=col>Serum.Creatinine</th><th scope=col>Sodium</th><th scope=col>Potassium</th><th scope=col>Hemoglobin</th><th scope=col>Packed.Cell.Volume</th><th scope=col>White.Blood.Cell.Count</th><th scope=col>Red.Blood.Cell.Count</th><th scope=col>Class</th></tr>\n",
       "\t<tr><th scope=col>&lt;fct&gt;</th><th scope=col>&lt;dbl&gt;</th><th scope=col>&lt;dbl&gt;</th><th scope=col>&lt;dbl&gt;</th><th scope=col>&lt;dbl&gt;</th><th scope=col>&lt;dbl&gt;</th><th scope=col>&lt;dbl&gt;</th><th scope=col>&lt;dbl&gt;</th><th scope=col>&lt;dbl&gt;</th><th scope=col>&lt;dbl&gt;</th><th scope=col>&lt;dbl&gt;</th><th scope=col>&lt;dbl&gt;</th><th scope=col>&lt;dbl&gt;</th><th scope=col>&lt;dbl&gt;</th><th scope=col>&lt;dbl&gt;</th><th scope=col>&lt;fct&gt;</th></tr>\n",
       "</thead>\n",
       "<tbody>\n",
       "\t<tr><td>1</td><td>69</td><td>70</td><td>1.01</td><td>3</td><td>4</td><td>264</td><td> 87</td><td>2.7</td><td>130</td><td>4.0</td><td>12.5</td><td>37</td><td> 9600</td><td>4.1</td><td>1</td></tr>\n",
       "\t<tr><td>1</td><td>73</td><td>80</td><td>1.02</td><td>2</td><td>0</td><td>253</td><td>142</td><td>4.6</td><td>138</td><td>5.8</td><td>10.5</td><td>33</td><td> 7200</td><td>4.3</td><td>1</td></tr>\n",
       "\t<tr><td>0</td><td>46</td><td>60</td><td>1.01</td><td>1</td><td>0</td><td>163</td><td> 92</td><td>3.3</td><td>141</td><td>4.0</td><td> 9.8</td><td>28</td><td>14600</td><td>3.2</td><td>1</td></tr>\n",
       "\t<tr><td>⋮</td><td>⋮</td><td>⋮</td><td>⋮</td><td>⋮</td><td>⋮</td><td>⋮</td><td>⋮</td><td>⋮</td><td>⋮</td><td>⋮</td><td>⋮</td><td>⋮</td><td>⋮</td><td>⋮</td><td>⋮</td></tr>\n",
       "\t<tr><td>0</td><td>15</td><td>80</td><td>1.025</td><td>0</td><td>0</td><td> 93</td><td>17</td><td>0.9</td><td>136</td><td>3.9</td><td>16.7</td><td>50</td><td>6200</td><td>5.2</td><td>0</td></tr>\n",
       "\t<tr><td>0</td><td>50</td><td>80</td><td>1.020</td><td>0</td><td>0</td><td>137</td><td>46</td><td>0.8</td><td>139</td><td>5.0</td><td>14.1</td><td>45</td><td>9500</td><td>4.6</td><td>0</td></tr>\n",
       "\t<tr><td>0</td><td>42</td><td>70</td><td>1.025</td><td>0</td><td>0</td><td> 75</td><td>31</td><td>1.2</td><td>141</td><td>3.5</td><td>16.5</td><td>54</td><td>7800</td><td>6.2</td><td>0</td></tr>\n",
       "</tbody>\n",
       "</table>\n"
      ],
      "text/latex": [
       "A tibble: 38 × 16\n",
       "\\begin{tabular}{llllllllllllllll}\n",
       " .pred\\_class & Age & Blood.Pressure & Specific.Gravity & Albumin & Sugar & Blood.Glucose.Random & Blood.Urea & Serum.Creatinine & Sodium & Potassium & Hemoglobin & Packed.Cell.Volume & White.Blood.Cell.Count & Red.Blood.Cell.Count & Class\\\\\n",
       " <fct> & <dbl> & <dbl> & <dbl> & <dbl> & <dbl> & <dbl> & <dbl> & <dbl> & <dbl> & <dbl> & <dbl> & <dbl> & <dbl> & <dbl> & <fct>\\\\\n",
       "\\hline\n",
       "\t 1 & 69 & 70 & 1.01 & 3 & 4 & 264 &  87 & 2.7 & 130 & 4.0 & 12.5 & 37 &  9600 & 4.1 & 1\\\\\n",
       "\t 1 & 73 & 80 & 1.02 & 2 & 0 & 253 & 142 & 4.6 & 138 & 5.8 & 10.5 & 33 &  7200 & 4.3 & 1\\\\\n",
       "\t 0 & 46 & 60 & 1.01 & 1 & 0 & 163 &  92 & 3.3 & 141 & 4.0 &  9.8 & 28 & 14600 & 3.2 & 1\\\\\n",
       "\t ⋮ & ⋮ & ⋮ & ⋮ & ⋮ & ⋮ & ⋮ & ⋮ & ⋮ & ⋮ & ⋮ & ⋮ & ⋮ & ⋮ & ⋮ & ⋮\\\\\n",
       "\t 0 & 15 & 80 & 1.025 & 0 & 0 &  93 & 17 & 0.9 & 136 & 3.9 & 16.7 & 50 & 6200 & 5.2 & 0\\\\\n",
       "\t 0 & 50 & 80 & 1.020 & 0 & 0 & 137 & 46 & 0.8 & 139 & 5.0 & 14.1 & 45 & 9500 & 4.6 & 0\\\\\n",
       "\t 0 & 42 & 70 & 1.025 & 0 & 0 &  75 & 31 & 1.2 & 141 & 3.5 & 16.5 & 54 & 7800 & 6.2 & 0\\\\\n",
       "\\end{tabular}\n"
      ],
      "text/markdown": [
       "\n",
       "A tibble: 38 × 16\n",
       "\n",
       "| .pred_class &lt;fct&gt; | Age &lt;dbl&gt; | Blood.Pressure &lt;dbl&gt; | Specific.Gravity &lt;dbl&gt; | Albumin &lt;dbl&gt; | Sugar &lt;dbl&gt; | Blood.Glucose.Random &lt;dbl&gt; | Blood.Urea &lt;dbl&gt; | Serum.Creatinine &lt;dbl&gt; | Sodium &lt;dbl&gt; | Potassium &lt;dbl&gt; | Hemoglobin &lt;dbl&gt; | Packed.Cell.Volume &lt;dbl&gt; | White.Blood.Cell.Count &lt;dbl&gt; | Red.Blood.Cell.Count &lt;dbl&gt; | Class &lt;fct&gt; |\n",
       "|---|---|---|---|---|---|---|---|---|---|---|---|---|---|---|---|\n",
       "| 1 | 69 | 70 | 1.01 | 3 | 4 | 264 |  87 | 2.7 | 130 | 4.0 | 12.5 | 37 |  9600 | 4.1 | 1 |\n",
       "| 1 | 73 | 80 | 1.02 | 2 | 0 | 253 | 142 | 4.6 | 138 | 5.8 | 10.5 | 33 |  7200 | 4.3 | 1 |\n",
       "| 0 | 46 | 60 | 1.01 | 1 | 0 | 163 |  92 | 3.3 | 141 | 4.0 |  9.8 | 28 | 14600 | 3.2 | 1 |\n",
       "| ⋮ | ⋮ | ⋮ | ⋮ | ⋮ | ⋮ | ⋮ | ⋮ | ⋮ | ⋮ | ⋮ | ⋮ | ⋮ | ⋮ | ⋮ | ⋮ |\n",
       "| 0 | 15 | 80 | 1.025 | 0 | 0 |  93 | 17 | 0.9 | 136 | 3.9 | 16.7 | 50 | 6200 | 5.2 | 0 |\n",
       "| 0 | 50 | 80 | 1.020 | 0 | 0 | 137 | 46 | 0.8 | 139 | 5.0 | 14.1 | 45 | 9500 | 4.6 | 0 |\n",
       "| 0 | 42 | 70 | 1.025 | 0 | 0 |  75 | 31 | 1.2 | 141 | 3.5 | 16.5 | 54 | 7800 | 6.2 | 0 |\n",
       "\n"
      ],
      "text/plain": [
       "   .pred_class Age Blood.Pressure Specific.Gravity Albumin Sugar\n",
       "1  1           69  70             1.01             3       4    \n",
       "2  1           73  80             1.02             2       0    \n",
       "3  0           46  60             1.01             1       0    \n",
       "⋮  ⋮           ⋮   ⋮              ⋮                ⋮       ⋮    \n",
       "36 0           15  80             1.025            0       0    \n",
       "37 0           50  80             1.020            0       0    \n",
       "38 0           42  70             1.025            0       0    \n",
       "   Blood.Glucose.Random Blood.Urea Serum.Creatinine Sodium Potassium Hemoglobin\n",
       "1  264                   87        2.7              130    4.0       12.5      \n",
       "2  253                  142        4.6              138    5.8       10.5      \n",
       "3  163                   92        3.3              141    4.0        9.8      \n",
       "⋮  ⋮                    ⋮          ⋮                ⋮      ⋮         ⋮         \n",
       "36  93                  17         0.9              136    3.9       16.7      \n",
       "37 137                  46         0.8              139    5.0       14.1      \n",
       "38  75                  31         1.2              141    3.5       16.5      \n",
       "   Packed.Cell.Volume White.Blood.Cell.Count Red.Blood.Cell.Count Class\n",
       "1  37                  9600                  4.1                  1    \n",
       "2  33                  7200                  4.3                  1    \n",
       "3  28                 14600                  3.2                  1    \n",
       "⋮  ⋮                  ⋮                      ⋮                    ⋮    \n",
       "36 50                 6200                   5.2                  0    \n",
       "37 45                 9500                   4.6                  0    \n",
       "38 54                 7800                   6.2                  0    "
      ]
     },
     "metadata": {},
     "output_type": "display_data"
    },
    {
     "data": {
      "text/html": [
       "<table>\n",
       "<caption>A tibble: 1 × 3</caption>\n",
       "<thead>\n",
       "\t<tr><th scope=col>.metric</th><th scope=col>.estimator</th><th scope=col>.estimate</th></tr>\n",
       "\t<tr><th scope=col>&lt;chr&gt;</th><th scope=col>&lt;chr&gt;</th><th scope=col>&lt;dbl&gt;</th></tr>\n",
       "</thead>\n",
       "<tbody>\n",
       "\t<tr><td>accuracy</td><td>binary</td><td>0.9736842</td></tr>\n",
       "</tbody>\n",
       "</table>\n"
      ],
      "text/latex": [
       "A tibble: 1 × 3\n",
       "\\begin{tabular}{lll}\n",
       " .metric & .estimator & .estimate\\\\\n",
       " <chr> & <chr> & <dbl>\\\\\n",
       "\\hline\n",
       "\t accuracy & binary & 0.9736842\\\\\n",
       "\\end{tabular}\n"
      ],
      "text/markdown": [
       "\n",
       "A tibble: 1 × 3\n",
       "\n",
       "| .metric &lt;chr&gt; | .estimator &lt;chr&gt; | .estimate &lt;dbl&gt; |\n",
       "|---|---|---|\n",
       "| accuracy | binary | 0.9736842 |\n",
       "\n"
      ],
      "text/plain": [
       "  .metric  .estimator .estimate\n",
       "1 accuracy binary     0.9736842"
      ]
     },
     "metadata": {},
     "output_type": "display_data"
    }
   ],
   "source": [
    "#Predictions and accuracy, seems awfully high but I can't tell if I made an error\n",
    "set.seed(300)\n",
    "ckd_predictions <- predict(ckd_fit, ckd_testing) %>%\n",
    "                     bind_cols(ckd_testing)\n",
    "ckd_predictions\n",
    "\n",
    "ckd_metrics <- ckd_predictions %>%\n",
    "                 metrics(truth = Class, .pred_class) %>%\n",
    "                 filter(.metric== \"accuracy\")\n",
    "ckd_metrics"
   ]
  },
  {
   "cell_type": "code",
   "execution_count": 114,
   "metadata": {},
   "outputs": [
    {
     "data": {
      "text/html": [
       "<table>\n",
       "<caption>A tibble: 1 × 1</caption>\n",
       "<thead>\n",
       "\t<tr><th scope=col>.pred_class</th></tr>\n",
       "\t<tr><th scope=col>&lt;fct&gt;</th></tr>\n",
       "</thead>\n",
       "<tbody>\n",
       "\t<tr><td>1</td></tr>\n",
       "</tbody>\n",
       "</table>\n"
      ],
      "text/latex": [
       "A tibble: 1 × 1\n",
       "\\begin{tabular}{l}\n",
       " .pred\\_class\\\\\n",
       " <fct>\\\\\n",
       "\\hline\n",
       "\t 1\\\\\n",
       "\\end{tabular}\n"
      ],
      "text/markdown": [
       "\n",
       "A tibble: 1 × 1\n",
       "\n",
       "| .pred_class &lt;fct&gt; |\n",
       "|---|\n",
       "| 1 |\n",
       "\n"
      ],
      "text/plain": [
       "  .pred_class\n",
       "1 1          "
      ]
     },
     "metadata": {},
     "output_type": "display_data"
    }
   ],
   "source": [
    "#Sample \n",
    "new_obs <- tibble(Blood.Pressure = 120, Age = 65, Albumin = 4, Blood.Glucose.Random = 350, Blood.Urea = 210) \n",
    "ckd_new_obs <- predict(ckd_fit, new_obs)\n",
    "ckd_new_obs"
   ]
  },
  {
   "cell_type": "code",
   "execution_count": null,
   "metadata": {},
   "outputs": [],
   "source": []
  }
 ],
 "metadata": {
  "kernelspec": {
   "display_name": "R",
   "language": "R",
   "name": "ir"
  },
  "language_info": {
   "codemirror_mode": "r",
   "file_extension": ".r",
   "mimetype": "text/x-r-source",
   "name": "R",
   "pygments_lexer": "r",
   "version": "4.0.0"
  }
 },
 "nbformat": 4,
 "nbformat_minor": 4
}
