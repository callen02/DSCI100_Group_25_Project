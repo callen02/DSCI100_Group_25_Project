{
 "cells": [
  {
   "cell_type": "code",
   "execution_count": 1,
   "metadata": {},
   "outputs": [
    {
     "name": "stderr",
     "output_type": "stream",
     "text": [
      "Warning message in system(\"timedatectl\", intern = TRUE):\n",
      "“running command 'timedatectl' had status 1”\n",
      "── \u001b[1mAttaching packages\u001b[22m ─────────────────────────────────────── tidyverse 1.3.1 ──\n",
      "\n",
      "\u001b[32m✔\u001b[39m \u001b[34mggplot2\u001b[39m 3.3.5     \u001b[32m✔\u001b[39m \u001b[34mpurrr  \u001b[39m 0.3.4\n",
      "\u001b[32m✔\u001b[39m \u001b[34mtibble \u001b[39m 3.1.7     \u001b[32m✔\u001b[39m \u001b[34mdplyr  \u001b[39m 1.0.9\n",
      "\u001b[32m✔\u001b[39m \u001b[34mtidyr  \u001b[39m 1.2.0     \u001b[32m✔\u001b[39m \u001b[34mstringr\u001b[39m 1.4.0\n",
      "\u001b[32m✔\u001b[39m \u001b[34mreadr  \u001b[39m 2.1.2     \u001b[32m✔\u001b[39m \u001b[34mforcats\u001b[39m 0.5.1\n",
      "\n",
      "── \u001b[1mConflicts\u001b[22m ────────────────────────────────────────── tidyverse_conflicts() ──\n",
      "\u001b[31m✖\u001b[39m \u001b[34mdplyr\u001b[39m::\u001b[32mfilter()\u001b[39m masks \u001b[34mstats\u001b[39m::filter()\n",
      "\u001b[31m✖\u001b[39m \u001b[34mdplyr\u001b[39m::\u001b[32mlag()\u001b[39m    masks \u001b[34mstats\u001b[39m::lag()\n",
      "\n",
      "── \u001b[1mAttaching packages\u001b[22m ────────────────────────────────────── tidymodels 0.2.0 ──\n",
      "\n",
      "\u001b[32m✔\u001b[39m \u001b[34mbroom       \u001b[39m 0.7.12     \u001b[32m✔\u001b[39m \u001b[34mrsample     \u001b[39m 0.1.1 \n",
      "\u001b[32m✔\u001b[39m \u001b[34mdials       \u001b[39m 1.0.0      \u001b[32m✔\u001b[39m \u001b[34mtune        \u001b[39m 0.2.0 \n",
      "\u001b[32m✔\u001b[39m \u001b[34minfer       \u001b[39m 1.0.2      \u001b[32m✔\u001b[39m \u001b[34mworkflows   \u001b[39m 0.2.6 \n",
      "\u001b[32m✔\u001b[39m \u001b[34mmodeldata   \u001b[39m 0.1.1      \u001b[32m✔\u001b[39m \u001b[34mworkflowsets\u001b[39m 0.2.1 \n",
      "\u001b[32m✔\u001b[39m \u001b[34mparsnip     \u001b[39m 1.0.0      \u001b[32m✔\u001b[39m \u001b[34myardstick   \u001b[39m 1.0.0 \n",
      "\u001b[32m✔\u001b[39m \u001b[34mrecipes     \u001b[39m 0.2.0      \n",
      "\n",
      "── \u001b[1mConflicts\u001b[22m ───────────────────────────────────────── tidymodels_conflicts() ──\n",
      "\u001b[31m✖\u001b[39m \u001b[34mscales\u001b[39m::\u001b[32mdiscard()\u001b[39m masks \u001b[34mpurrr\u001b[39m::discard()\n",
      "\u001b[31m✖\u001b[39m \u001b[34mdplyr\u001b[39m::\u001b[32mfilter()\u001b[39m   masks \u001b[34mstats\u001b[39m::filter()\n",
      "\u001b[31m✖\u001b[39m \u001b[34mrecipes\u001b[39m::\u001b[32mfixed()\u001b[39m  masks \u001b[34mstringr\u001b[39m::fixed()\n",
      "\u001b[31m✖\u001b[39m \u001b[34mdplyr\u001b[39m::\u001b[32mlag()\u001b[39m      masks \u001b[34mstats\u001b[39m::lag()\n",
      "\u001b[31m✖\u001b[39m \u001b[34myardstick\u001b[39m::\u001b[32mspec()\u001b[39m masks \u001b[34mreadr\u001b[39m::spec()\n",
      "\u001b[31m✖\u001b[39m \u001b[34mrecipes\u001b[39m::\u001b[32mstep()\u001b[39m   masks \u001b[34mstats\u001b[39m::step()\n",
      "\u001b[34m•\u001b[39m Use suppressPackageStartupMessages() to eliminate package startup messages\n",
      "\n"
     ]
    }
   ],
   "source": [
    "library(repr)\n",
    "library(tidyverse)\n",
    "library(tidymodels)\n",
    "options(repr.matrix.max.rows = 6)"
   ]
  },
  {
   "cell_type": "code",
   "execution_count": 1,
   "metadata": {},
   "outputs": [
    {
     "ename": "ERROR",
     "evalue": "Error in read_csv(\"https://raw.githubusercontent.com/callen02/DSCI100_Group_25_Project/main/ckd_clean.csv\"): could not find function \"read_csv\"\n",
     "output_type": "error",
     "traceback": [
      "Error in read_csv(\"https://raw.githubusercontent.com/callen02/DSCI100_Group_25_Project/main/ckd_clean.csv\"): could not find function \"read_csv\"\nTraceback:\n"
     ]
    }
   ],
   "source": [
    "ckd_data <- read_csv(\"https://raw.githubusercontent.com/callen02/DSCI100_Group_25_Project/main/ckd_clean.csv\")\n",
    "names(ckd_data) <- gsub(\" \", \".\", names(ckd_data))\n",
    "#filtered out columns that are non numeric\n",
    "ckd_data_tidy <- ckd_data %>% \n",
    "            mutate(Class = as_factor(Class)) %>%\n",
    "            select(-Red.Blood.Cells, -Pus.Cell, -Pus.Cell.clumps, -Bacteria, -Hypertension, -Diabetes.Mellitus, -Appetite, -Pedal.Edema, -Coronary.Artery.Disease, - Anemia)\n",
    "ckd_data_tidy"
   ]
  },
  {
   "cell_type": "code",
   "execution_count": 2,
   "metadata": {},
   "outputs": [],
   "source": [
    "#GGpairs"
   ]
  },
  {
   "cell_type": "code",
   "execution_count": 3,
   "metadata": {},
   "outputs": [
    {
     "data": {
      "text/html": [
       "<table class=\"dataframe\">\n",
       "<caption>A tibble: 118 × 15</caption>\n",
       "<thead>\n",
       "\t<tr><th scope=col>Age</th><th scope=col>Blood.Pressure</th><th scope=col>Specific.Gravity</th><th scope=col>Albumin</th><th scope=col>Sugar</th><th scope=col>Blood.Glucose.Random</th><th scope=col>Blood.Urea</th><th scope=col>Serum.Creatinine</th><th scope=col>Sodium</th><th scope=col>Potassium</th><th scope=col>Hemoglobin</th><th scope=col>Packed.Cell.Volume</th><th scope=col>White.Blood.Cell.Count</th><th scope=col>Red.Blood.Cell.Count</th><th scope=col>Class</th></tr>\n",
       "\t<tr><th scope=col>&lt;dbl&gt;</th><th scope=col>&lt;dbl&gt;</th><th scope=col>&lt;dbl&gt;</th><th scope=col>&lt;dbl&gt;</th><th scope=col>&lt;dbl&gt;</th><th scope=col>&lt;dbl&gt;</th><th scope=col>&lt;dbl&gt;</th><th scope=col>&lt;dbl&gt;</th><th scope=col>&lt;dbl&gt;</th><th scope=col>&lt;dbl&gt;</th><th scope=col>&lt;dbl&gt;</th><th scope=col>&lt;dbl&gt;</th><th scope=col>&lt;dbl&gt;</th><th scope=col>&lt;dbl&gt;</th><th scope=col>&lt;fct&gt;</th></tr>\n",
       "</thead>\n",
       "<tbody>\n",
       "\t<tr><td>57</td><td>80</td><td>1.025</td><td>0</td><td>0</td><td>119</td><td>17</td><td>1.2</td><td>135</td><td>4.7</td><td>15.4</td><td>42</td><td>6200</td><td>6.2</td><td>0</td></tr>\n",
       "\t<tr><td>51</td><td>60</td><td>1.025</td><td>0</td><td>0</td><td> 99</td><td>38</td><td>0.8</td><td>135</td><td>3.7</td><td>13.0</td><td>49</td><td>8300</td><td>5.2</td><td>0</td></tr>\n",
       "\t<tr><td>34</td><td>80</td><td>1.025</td><td>0</td><td>0</td><td>121</td><td>27</td><td>1.2</td><td>144</td><td>3.9</td><td>13.6</td><td>52</td><td>9200</td><td>6.3</td><td>0</td></tr>\n",
       "\t<tr><td>⋮</td><td>⋮</td><td>⋮</td><td>⋮</td><td>⋮</td><td>⋮</td><td>⋮</td><td>⋮</td><td>⋮</td><td>⋮</td><td>⋮</td><td>⋮</td><td>⋮</td><td>⋮</td><td>⋮</td></tr>\n",
       "\t<tr><td>64</td><td>100</td><td>1.015</td><td>4</td><td>2</td><td>163</td><td> 54</td><td> 7.2</td><td>140</td><td>4.6</td><td> 7.9</td><td>26</td><td> 7500</td><td>3.4</td><td>1</td></tr>\n",
       "\t<tr><td>59</td><td> 50</td><td>1.010</td><td>3</td><td>0</td><td>241</td><td>191</td><td>12.0</td><td>114</td><td>2.9</td><td> 9.6</td><td>31</td><td>15700</td><td>3.8</td><td>1</td></tr>\n",
       "\t<tr><td>59</td><td> 70</td><td>1.010</td><td>1</td><td>3</td><td>424</td><td> 55</td><td> 1.7</td><td>138</td><td>4.5</td><td>12.6</td><td>37</td><td>10200</td><td>4.1</td><td>1</td></tr>\n",
       "</tbody>\n",
       "</table>\n"
      ],
      "text/latex": [
       "A tibble: 118 × 15\n",
       "\\begin{tabular}{lllllllllllllll}\n",
       " Age & Blood.Pressure & Specific.Gravity & Albumin & Sugar & Blood.Glucose.Random & Blood.Urea & Serum.Creatinine & Sodium & Potassium & Hemoglobin & Packed.Cell.Volume & White.Blood.Cell.Count & Red.Blood.Cell.Count & Class\\\\\n",
       " <dbl> & <dbl> & <dbl> & <dbl> & <dbl> & <dbl> & <dbl> & <dbl> & <dbl> & <dbl> & <dbl> & <dbl> & <dbl> & <dbl> & <fct>\\\\\n",
       "\\hline\n",
       "\t 57 & 80 & 1.025 & 0 & 0 & 119 & 17 & 1.2 & 135 & 4.7 & 15.4 & 42 & 6200 & 6.2 & 0\\\\\n",
       "\t 51 & 60 & 1.025 & 0 & 0 &  99 & 38 & 0.8 & 135 & 3.7 & 13.0 & 49 & 8300 & 5.2 & 0\\\\\n",
       "\t 34 & 80 & 1.025 & 0 & 0 & 121 & 27 & 1.2 & 144 & 3.9 & 13.6 & 52 & 9200 & 6.3 & 0\\\\\n",
       "\t ⋮ & ⋮ & ⋮ & ⋮ & ⋮ & ⋮ & ⋮ & ⋮ & ⋮ & ⋮ & ⋮ & ⋮ & ⋮ & ⋮ & ⋮\\\\\n",
       "\t 64 & 100 & 1.015 & 4 & 2 & 163 &  54 &  7.2 & 140 & 4.6 &  7.9 & 26 &  7500 & 3.4 & 1\\\\\n",
       "\t 59 &  50 & 1.010 & 3 & 0 & 241 & 191 & 12.0 & 114 & 2.9 &  9.6 & 31 & 15700 & 3.8 & 1\\\\\n",
       "\t 59 &  70 & 1.010 & 1 & 3 & 424 &  55 &  1.7 & 138 & 4.5 & 12.6 & 37 & 10200 & 4.1 & 1\\\\\n",
       "\\end{tabular}\n"
      ],
      "text/markdown": [
       "\n",
       "A tibble: 118 × 15\n",
       "\n",
       "| Age &lt;dbl&gt; | Blood.Pressure &lt;dbl&gt; | Specific.Gravity &lt;dbl&gt; | Albumin &lt;dbl&gt; | Sugar &lt;dbl&gt; | Blood.Glucose.Random &lt;dbl&gt; | Blood.Urea &lt;dbl&gt; | Serum.Creatinine &lt;dbl&gt; | Sodium &lt;dbl&gt; | Potassium &lt;dbl&gt; | Hemoglobin &lt;dbl&gt; | Packed.Cell.Volume &lt;dbl&gt; | White.Blood.Cell.Count &lt;dbl&gt; | Red.Blood.Cell.Count &lt;dbl&gt; | Class &lt;fct&gt; |\n",
       "|---|---|---|---|---|---|---|---|---|---|---|---|---|---|---|\n",
       "| 57 | 80 | 1.025 | 0 | 0 | 119 | 17 | 1.2 | 135 | 4.7 | 15.4 | 42 | 6200 | 6.2 | 0 |\n",
       "| 51 | 60 | 1.025 | 0 | 0 |  99 | 38 | 0.8 | 135 | 3.7 | 13.0 | 49 | 8300 | 5.2 | 0 |\n",
       "| 34 | 80 | 1.025 | 0 | 0 | 121 | 27 | 1.2 | 144 | 3.9 | 13.6 | 52 | 9200 | 6.3 | 0 |\n",
       "| ⋮ | ⋮ | ⋮ | ⋮ | ⋮ | ⋮ | ⋮ | ⋮ | ⋮ | ⋮ | ⋮ | ⋮ | ⋮ | ⋮ | ⋮ |\n",
       "| 64 | 100 | 1.015 | 4 | 2 | 163 |  54 |  7.2 | 140 | 4.6 |  7.9 | 26 |  7500 | 3.4 | 1 |\n",
       "| 59 |  50 | 1.010 | 3 | 0 | 241 | 191 | 12.0 | 114 | 2.9 |  9.6 | 31 | 15700 | 3.8 | 1 |\n",
       "| 59 |  70 | 1.010 | 1 | 3 | 424 |  55 |  1.7 | 138 | 4.5 | 12.6 | 37 | 10200 | 4.1 | 1 |\n",
       "\n"
      ],
      "text/plain": [
       "    Age Blood.Pressure Specific.Gravity Albumin Sugar Blood.Glucose.Random\n",
       "1   57  80             1.025            0       0     119                 \n",
       "2   51  60             1.025            0       0      99                 \n",
       "3   34  80             1.025            0       0     121                 \n",
       "⋮   ⋮   ⋮              ⋮                ⋮       ⋮     ⋮                   \n",
       "116 64  100            1.015            4       2     163                 \n",
       "117 59   50            1.010            3       0     241                 \n",
       "118 59   70            1.010            1       3     424                 \n",
       "    Blood.Urea Serum.Creatinine Sodium Potassium Hemoglobin Packed.Cell.Volume\n",
       "1   17         1.2              135    4.7       15.4       42                \n",
       "2   38         0.8              135    3.7       13.0       49                \n",
       "3   27         1.2              144    3.9       13.6       52                \n",
       "⋮   ⋮          ⋮                ⋮      ⋮         ⋮          ⋮                 \n",
       "116  54         7.2             140    4.6        7.9       26                \n",
       "117 191        12.0             114    2.9        9.6       31                \n",
       "118  55         1.7             138    4.5       12.6       37                \n",
       "    White.Blood.Cell.Count Red.Blood.Cell.Count Class\n",
       "1   6200                   6.2                  0    \n",
       "2   8300                   5.2                  0    \n",
       "3   9200                   6.3                  0    \n",
       "⋮   ⋮                      ⋮                    ⋮    \n",
       "116  7500                  3.4                  1    \n",
       "117 15700                  3.8                  1    \n",
       "118 10200                  4.1                  1    "
      ]
     },
     "metadata": {},
     "output_type": "display_data"
    },
    {
     "data": {
      "text/html": [
       "<table class=\"dataframe\">\n",
       "<caption>A tibble: 40 × 15</caption>\n",
       "<thead>\n",
       "\t<tr><th scope=col>Age</th><th scope=col>Blood.Pressure</th><th scope=col>Specific.Gravity</th><th scope=col>Albumin</th><th scope=col>Sugar</th><th scope=col>Blood.Glucose.Random</th><th scope=col>Blood.Urea</th><th scope=col>Serum.Creatinine</th><th scope=col>Sodium</th><th scope=col>Potassium</th><th scope=col>Hemoglobin</th><th scope=col>Packed.Cell.Volume</th><th scope=col>White.Blood.Cell.Count</th><th scope=col>Red.Blood.Cell.Count</th><th scope=col>Class</th></tr>\n",
       "\t<tr><th scope=col>&lt;dbl&gt;</th><th scope=col>&lt;dbl&gt;</th><th scope=col>&lt;dbl&gt;</th><th scope=col>&lt;dbl&gt;</th><th scope=col>&lt;dbl&gt;</th><th scope=col>&lt;dbl&gt;</th><th scope=col>&lt;dbl&gt;</th><th scope=col>&lt;dbl&gt;</th><th scope=col>&lt;dbl&gt;</th><th scope=col>&lt;dbl&gt;</th><th scope=col>&lt;dbl&gt;</th><th scope=col>&lt;dbl&gt;</th><th scope=col>&lt;dbl&gt;</th><th scope=col>&lt;dbl&gt;</th><th scope=col>&lt;fct&gt;</th></tr>\n",
       "</thead>\n",
       "<tbody>\n",
       "\t<tr><td>48</td><td>70</td><td>1.005</td><td>4</td><td>0</td><td>117</td><td> 56</td><td>3.8</td><td>111</td><td>2.5</td><td>11.2</td><td>32</td><td> 6700</td><td>3.9</td><td>1</td></tr>\n",
       "\t<tr><td>68</td><td>80</td><td>1.010</td><td>3</td><td>2</td><td>157</td><td> 90</td><td>4.1</td><td>130</td><td>6.4</td><td> 5.6</td><td>16</td><td>11000</td><td>2.6</td><td>1</td></tr>\n",
       "\t<tr><td>61</td><td>80</td><td>1.015</td><td>2</td><td>0</td><td>173</td><td>148</td><td>3.9</td><td>135</td><td>5.2</td><td> 7.7</td><td>24</td><td> 9200</td><td>3.2</td><td>1</td></tr>\n",
       "\t<tr><td>⋮</td><td>⋮</td><td>⋮</td><td>⋮</td><td>⋮</td><td>⋮</td><td>⋮</td><td>⋮</td><td>⋮</td><td>⋮</td><td>⋮</td><td>⋮</td><td>⋮</td><td>⋮</td><td>⋮</td></tr>\n",
       "\t<tr><td>35</td><td>60</td><td>1.025</td><td>0</td><td>0</td><td>105</td><td>39</td><td>0.5</td><td>135</td><td>3.9</td><td>14.7</td><td>43</td><td> 5800</td><td>6.2</td><td>0</td></tr>\n",
       "\t<tr><td>33</td><td>80</td><td>1.025</td><td>0</td><td>0</td><td> 89</td><td>19</td><td>1.1</td><td>144</td><td>5.0</td><td>15.0</td><td>40</td><td>10300</td><td>4.8</td><td>0</td></tr>\n",
       "\t<tr><td>43</td><td>60</td><td>1.025</td><td>0</td><td>0</td><td>117</td><td>45</td><td>0.7</td><td>141</td><td>4.4</td><td>13.0</td><td>54</td><td> 7400</td><td>5.4</td><td>0</td></tr>\n",
       "</tbody>\n",
       "</table>\n"
      ],
      "text/latex": [
       "A tibble: 40 × 15\n",
       "\\begin{tabular}{lllllllllllllll}\n",
       " Age & Blood.Pressure & Specific.Gravity & Albumin & Sugar & Blood.Glucose.Random & Blood.Urea & Serum.Creatinine & Sodium & Potassium & Hemoglobin & Packed.Cell.Volume & White.Blood.Cell.Count & Red.Blood.Cell.Count & Class\\\\\n",
       " <dbl> & <dbl> & <dbl> & <dbl> & <dbl> & <dbl> & <dbl> & <dbl> & <dbl> & <dbl> & <dbl> & <dbl> & <dbl> & <dbl> & <fct>\\\\\n",
       "\\hline\n",
       "\t 48 & 70 & 1.005 & 4 & 0 & 117 &  56 & 3.8 & 111 & 2.5 & 11.2 & 32 &  6700 & 3.9 & 1\\\\\n",
       "\t 68 & 80 & 1.010 & 3 & 2 & 157 &  90 & 4.1 & 130 & 6.4 &  5.6 & 16 & 11000 & 2.6 & 1\\\\\n",
       "\t 61 & 80 & 1.015 & 2 & 0 & 173 & 148 & 3.9 & 135 & 5.2 &  7.7 & 24 &  9200 & 3.2 & 1\\\\\n",
       "\t ⋮ & ⋮ & ⋮ & ⋮ & ⋮ & ⋮ & ⋮ & ⋮ & ⋮ & ⋮ & ⋮ & ⋮ & ⋮ & ⋮ & ⋮\\\\\n",
       "\t 35 & 60 & 1.025 & 0 & 0 & 105 & 39 & 0.5 & 135 & 3.9 & 14.7 & 43 &  5800 & 6.2 & 0\\\\\n",
       "\t 33 & 80 & 1.025 & 0 & 0 &  89 & 19 & 1.1 & 144 & 5.0 & 15.0 & 40 & 10300 & 4.8 & 0\\\\\n",
       "\t 43 & 60 & 1.025 & 0 & 0 & 117 & 45 & 0.7 & 141 & 4.4 & 13.0 & 54 &  7400 & 5.4 & 0\\\\\n",
       "\\end{tabular}\n"
      ],
      "text/markdown": [
       "\n",
       "A tibble: 40 × 15\n",
       "\n",
       "| Age &lt;dbl&gt; | Blood.Pressure &lt;dbl&gt; | Specific.Gravity &lt;dbl&gt; | Albumin &lt;dbl&gt; | Sugar &lt;dbl&gt; | Blood.Glucose.Random &lt;dbl&gt; | Blood.Urea &lt;dbl&gt; | Serum.Creatinine &lt;dbl&gt; | Sodium &lt;dbl&gt; | Potassium &lt;dbl&gt; | Hemoglobin &lt;dbl&gt; | Packed.Cell.Volume &lt;dbl&gt; | White.Blood.Cell.Count &lt;dbl&gt; | Red.Blood.Cell.Count &lt;dbl&gt; | Class &lt;fct&gt; |\n",
       "|---|---|---|---|---|---|---|---|---|---|---|---|---|---|---|\n",
       "| 48 | 70 | 1.005 | 4 | 0 | 117 |  56 | 3.8 | 111 | 2.5 | 11.2 | 32 |  6700 | 3.9 | 1 |\n",
       "| 68 | 80 | 1.010 | 3 | 2 | 157 |  90 | 4.1 | 130 | 6.4 |  5.6 | 16 | 11000 | 2.6 | 1 |\n",
       "| 61 | 80 | 1.015 | 2 | 0 | 173 | 148 | 3.9 | 135 | 5.2 |  7.7 | 24 |  9200 | 3.2 | 1 |\n",
       "| ⋮ | ⋮ | ⋮ | ⋮ | ⋮ | ⋮ | ⋮ | ⋮ | ⋮ | ⋮ | ⋮ | ⋮ | ⋮ | ⋮ | ⋮ |\n",
       "| 35 | 60 | 1.025 | 0 | 0 | 105 | 39 | 0.5 | 135 | 3.9 | 14.7 | 43 |  5800 | 6.2 | 0 |\n",
       "| 33 | 80 | 1.025 | 0 | 0 |  89 | 19 | 1.1 | 144 | 5.0 | 15.0 | 40 | 10300 | 4.8 | 0 |\n",
       "| 43 | 60 | 1.025 | 0 | 0 | 117 | 45 | 0.7 | 141 | 4.4 | 13.0 | 54 |  7400 | 5.4 | 0 |\n",
       "\n"
      ],
      "text/plain": [
       "   Age Blood.Pressure Specific.Gravity Albumin Sugar Blood.Glucose.Random\n",
       "1  48  70             1.005            4       0     117                 \n",
       "2  68  80             1.010            3       2     157                 \n",
       "3  61  80             1.015            2       0     173                 \n",
       "⋮  ⋮   ⋮              ⋮                ⋮       ⋮     ⋮                   \n",
       "38 35  60             1.025            0       0     105                 \n",
       "39 33  80             1.025            0       0      89                 \n",
       "40 43  60             1.025            0       0     117                 \n",
       "   Blood.Urea Serum.Creatinine Sodium Potassium Hemoglobin Packed.Cell.Volume\n",
       "1   56        3.8              111    2.5       11.2       32                \n",
       "2   90        4.1              130    6.4        5.6       16                \n",
       "3  148        3.9              135    5.2        7.7       24                \n",
       "⋮  ⋮          ⋮                ⋮      ⋮         ⋮          ⋮                 \n",
       "38 39         0.5              135    3.9       14.7       43                \n",
       "39 19         1.1              144    5.0       15.0       40                \n",
       "40 45         0.7              141    4.4       13.0       54                \n",
       "   White.Blood.Cell.Count Red.Blood.Cell.Count Class\n",
       "1   6700                  3.9                  1    \n",
       "2  11000                  2.6                  1    \n",
       "3   9200                  3.2                  1    \n",
       "⋮  ⋮                      ⋮                    ⋮    \n",
       "38  5800                  6.2                  0    \n",
       "39 10300                  4.8                  0    \n",
       "40  7400                  5.4                  0    "
      ]
     },
     "metadata": {},
     "output_type": "display_data"
    }
   ],
   "source": [
    "#training and testing data, # class means whether they have CKD or not. 1 = Yes, 0 = No\n",
    "set.seed(123)\n",
    "ckd_split <- initial_split(ckd_data_tidy, prop = 0.75, strata = Class)\n",
    "ckd_training <- training(ckd_split)\n",
    "ckd_testing <- testing(ckd_split)\n",
    "\n",
    "ckd_training\n",
    "ckd_testing"
   ]
  },
  {
   "cell_type": "code",
   "execution_count": 4,
   "metadata": {},
   "outputs": [
    {
     "data": {
      "text/plain": [
       "Recipe\n",
       "\n",
       "Inputs:\n",
       "\n",
       "      role #variables\n",
       "   outcome          1\n",
       " predictor          5\n",
       "\n",
       "Operations:\n",
       "\n",
       "Scaling for all_predictors()\n",
       "Centering for all_predictors()"
      ]
     },
     "metadata": {},
     "output_type": "display_data"
    }
   ],
   "source": [
    "#Recipe\n",
    "#selection of variables of what I imagine is of more imporant when determining CKD\n",
    "ckd_recipe <- recipe(Class ~ Blood.Pressure + Albumin + Age + Blood.Glucose.Random + \n",
    "                     Blood.Urea, data = ckd_training) %>%\n",
    "            step_scale(all_predictors()) %>%\n",
    "            step_center(all_predictors())\n",
    "ckd_recipe"
   ]
  },
  {
   "cell_type": "code",
   "execution_count": 5,
   "metadata": {},
   "outputs": [
    {
     "data": {
      "text/plain": [
       "K-Nearest Neighbor Model Specification (classification)\n",
       "\n",
       "Main Arguments:\n",
       "  neighbors = tune()\n",
       "  weight_func = rectangular\n",
       "\n",
       "Computational engine: kknn \n"
      ]
     },
     "metadata": {},
     "output_type": "display_data"
    }
   ],
   "source": [
    "#Model that helps find the optimal K value\n",
    "ckd_spec <- nearest_neighbor(weight_func = \"rectangular\", neighbors = tune()) %>%\n",
    "       set_engine(\"kknn\") %>%\n",
    "       set_mode(\"classification\")\n",
    "ckd_spec"
   ]
  },
  {
   "cell_type": "code",
   "execution_count": 6,
   "metadata": {},
   "outputs": [],
   "source": [
    "#10 V-fold function\n",
    "ckd_vfold <- vfold_cv(ckd_training, v = 10, strata = Class)"
   ]
  },
  {
   "cell_type": "code",
   "execution_count": 7,
   "metadata": {},
   "outputs": [
    {
     "ename": "ERROR",
     "evalue": "\u001b[1m\u001b[33mError\u001b[39m in \u001b[1m\u001b[1m`check_installs()`:\u001b[22m\n\u001b[33m!\u001b[39m Some package installs are required: \n\u001b[36m•\u001b[39m 'kknn', 'kknn'\n",
     "output_type": "error",
     "traceback": [
      "\u001b[1m\u001b[33mError\u001b[39m in \u001b[1m\u001b[1m`check_installs()`:\u001b[22m\n\u001b[33m!\u001b[39m Some package installs are required: \n\u001b[36m•\u001b[39m 'kknn', 'kknn'\nTraceback:\n",
      "1. workflow() %>% add_recipe(ckd_recipe) %>% add_model(ckd_spec) %>% \n .     tune_grid(resamples = ckd_vfold, grid = 10) %>% collect_metrics()",
      "2. collect_metrics(.)",
      "3. tune_grid(., resamples = ckd_vfold, grid = 10)",
      "4. tune_grid.workflow(., resamples = ckd_vfold, grid = 10)",
      "5. tune_grid_workflow(object, resamples = resamples, grid = grid, \n .     metrics = metrics, pset = param_info, control = control)",
      "6. check_workflow(workflow, pset = pset)",
      "7. check_installs(mod)",
      "8. rlang::abort(c(\"Some package installs are required: \", paste0(\"'\", \n .     deps[!is_inst], \"'\", collapse = \", \")))",
      "9. signal_abort(cnd, .file)"
     ]
    }
   ],
   "source": [
    "#Workflow, honestly don't know if it is correct\n",
    "ckd_workflow <- workflow() %>%\n",
    "            add_recipe(ckd_recipe) %>%\n",
    "            add_model(ckd_spec) %>%\n",
    "            tune_grid(resamples = ckd_vfold, grid = 10) %>%\n",
    "            collect_metrics()\n",
    "            \n",
    "ckd_workflow\n",
    "            "
   ]
  },
  {
   "cell_type": "code",
   "execution_count": null,
   "metadata": {},
   "outputs": [],
   "source": [
    "#Filter for accuracy\n",
    "ckd_accuracy <- ckd_workflow %>%\n",
    "                 filter(.metric == \"accuracy\")\n",
    "ckd_accuracy"
   ]
  },
  {
   "cell_type": "code",
   "execution_count": null,
   "metadata": {},
   "outputs": [],
   "source": [
    "#Plot to find the optimal K\n",
    "cross_val_plot <- ckd_accuracy %>%\n",
    "                  ggplot(aes(x= neighbors, y = mean)) +\n",
    "                  geom_point() +\n",
    "                  geom_line() +\n",
    "                  labs(x = \"Neighbors Count\", y = \"Accuracy\", title = \"Neighbors Count vs Accuracy\")\n",
    "\n",
    "cross_val_plot"
   ]
  },
  {
   "cell_type": "code",
   "execution_count": null,
   "metadata": {},
   "outputs": [],
   "source": [
    "#Model with optimal k value\n",
    "ckd_optimal_k <- nearest_neighbor(weight_func = \"rectangular\", neighbor = 4) %>%\n",
    "                set_engine(\"kknn\") %>%\n",
    "                set_mode(\"classification\")\n",
    "\n",
    "ckd_optimal_k\n",
    "            "
   ]
  },
  {
   "cell_type": "code",
   "execution_count": null,
   "metadata": {},
   "outputs": [],
   "source": [
    "#Fitted Model\n",
    "ckd_fit <- workflow() %>%\n",
    "             add_recipe(ckd_recipe) %>%\n",
    "             add_model(ckd_optimal_k) %>%\n",
    "             fit(data = ckd_training)\n",
    "\n",
    "ckd_fit"
   ]
  },
  {
   "cell_type": "code",
   "execution_count": null,
   "metadata": {},
   "outputs": [],
   "source": [
    "#Predictions and accuracy, seems awfully high but I can't tell if I made an error\n",
    "set.seed(300)\n",
    "ckd_predictions <- predict(ckd_fit, ckd_testing) %>%\n",
    "                     bind_cols(ckd_testing)\n",
    "ckd_predictions\n",
    "\n",
    "ckd_metrics <- ckd_predictions %>%\n",
    "                 metrics(truth = Class, .pred_class) %>%\n",
    "                 filter(.metric== \"accuracy\")\n",
    "ckd_metrics"
   ]
  },
  {
   "cell_type": "code",
   "execution_count": null,
   "metadata": {},
   "outputs": [],
   "source": [
    "#Sample \n",
    "new_obs <- tibble(Blood.Pressure = 120, Age = 65, Albumin = 4, Blood.Glucose.Random = 350, Blood.Urea = 210) \n",
    "ckd_new_obs <- predict(ckd_fit, new_obs)\n",
    "ckd_new_obs"
   ]
  },
  {
   "cell_type": "code",
   "execution_count": null,
   "metadata": {},
   "outputs": [],
   "source": []
  }
 ],
 "metadata": {
  "kernelspec": {
   "display_name": "R",
   "language": "R",
   "name": "ir"
  },
  "language_info": {
   "codemirror_mode": "r",
   "file_extension": ".r",
   "mimetype": "text/x-r-source",
   "name": "R",
   "pygments_lexer": "r",
   "version": "4.1.2"
  }
 },
 "nbformat": 4,
 "nbformat_minor": 4
}
