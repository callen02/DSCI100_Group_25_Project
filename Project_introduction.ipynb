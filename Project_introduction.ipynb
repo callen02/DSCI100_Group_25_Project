{
 "cells": [
  {
   "cell_type": "markdown",
   "metadata": {},
   "source": [
    "### Introduction"
   ]
  },
  {
   "cell_type": "markdown",
   "metadata": {},
   "source": [
    "    Chronic kidney disease (CKD) refers to a gradual loss and impairment of the kidneys' functions in filtering wastes and excess fluids from the blood. In the intial stages of CKD, signs and symtoms can be minimal. However, in advanced CKD, as dangerous levels of fluid and wastes build up within the body, a diverse array of symptoms may begin presenting. Some of the most common advanced symtoms include persistent hypertension, shortness of breath, chest pain, increased or decreased urination, among others. Furthermore, there are a range of conditions that can induce CKD. Conditions and diseases often associated with an increased risk of CKD include: type 1 or type 2 diabetes, high blood pressure/hypertension, smoking, obesity, older age, as well as, cardiovascular disease. In many people, treatment in the early stages of CKD can prevent or slow down progression through to eventual kidney failure. Thus, early detection of CKD is essential in order to increase the ease of treatment. \n",
    "\n",
    "    Utilizing ckd_clean.csv, which includes blood test data regarding measures of 400 patients, 250 of those with CKD (Class 1) and the remaining 150 rows without CKD (Class 0), we aim to provide an answer to the question: what factors are highly correlated with the class of chronic kidney disease? Each row in the orignal file coresspond to a single patients' values for each variable, with all rows containing missing values already dropped. In order to utilize classification effectively to answer the proposed question, we will be dropping the nominal variables and utilizing only quantitative variables in order to make our recipe, workflow, and subsequent model easier to analize. \n",
    "\n",
    "    Finding factors with high correlations to CKD will allow for early diagnosis and subsequent treatment, thus, reducing progression to advanced stages and kidney failure.\n",
    "\n",
    "#delete later\n",
    "for references:\n",
    "\n",
    "https://www.niddk.nih.gov/health-information/kidney-disease/chronic-kidney-disease-ckd/what-is-chronic-kidney-disease\n",
    "\n",
    "https://patient.info/kidney-urinary-tract/chronic-kidney-disease-leaflet "
   ]
  },
  {
   "cell_type": "code",
   "execution_count": null,
   "metadata": {},
   "outputs": [],
   "source": []
  }
 ],
 "metadata": {
  "kernelspec": {
   "display_name": "R",
   "language": "R",
   "name": "ir"
  },
  "language_info": {
   "codemirror_mode": "r",
   "file_extension": ".r",
   "mimetype": "text/x-r-source",
   "name": "R",
   "pygments_lexer": "r",
   "version": "4.0.0"
  }
 },
 "nbformat": 4,
 "nbformat_minor": 4
}
