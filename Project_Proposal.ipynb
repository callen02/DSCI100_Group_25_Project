{
 "cells": [
  {
   "cell_type": "markdown",
   "metadata": {},
   "source": [
    "### Introduction\n",
    "\n",
    "Chronic kidney disease (CKD) refers to a gradual loss and impairment of the kidneys' functions in filtering wastes and excess fluids from the blood. In the intial stages of CKD, signs and symtoms can be minimal. However, in advanced CKD, as dangerous levels of fluid and wastes build up within the body, symptoms can include persistent high blood pressure (hypertension) that is difficult to control, shortness of breath due to fluiud build-up in the lungs, among others. Conditions and diseases often associated with an increased risk of CKD include: type 1 or type 2 diabetes, high blood pressure/hypertension, smoking, obesity, older age, as well as, cardiovascular disease. Utilizing ckd_clean.csv, which includes data regarding measures of 400 patients, 250 of those with CKD (Class 1) and the remaining 150 rows without CKD (Class 0), we will attempt to classify a new observation/patient as possessing CKD or not possessing CKD. The measures we will be utilizing in order to perform this classification are age, blood pressure, albumin, blood urea, hypertension, diabetes mellitus, coronary artery disease, and the presence of pus cells in urine. "
   ]
  },
  {
   "cell_type": "markdown",
   "metadata": {},
   "source": [
    "# Preliminary Exploratory Data Analysis"
   ]
  },
  {
   "cell_type": "code",
   "execution_count": 1,
   "metadata": {},
   "outputs": [
    {
     "name": "stderr",
     "output_type": "stream",
     "text": [
      "── \u001b[1mAttaching packages\u001b[22m ─────────────────────────────────────── tidyverse 1.3.0 ──\n",
      "\n",
      "\u001b[32m✔\u001b[39m \u001b[34mggplot2\u001b[39m 3.3.2     \u001b[32m✔\u001b[39m \u001b[34mpurrr  \u001b[39m 0.3.4\n",
      "\u001b[32m✔\u001b[39m \u001b[34mtibble \u001b[39m 3.0.3     \u001b[32m✔\u001b[39m \u001b[34mdplyr  \u001b[39m 1.0.2\n",
      "\u001b[32m✔\u001b[39m \u001b[34mtidyr  \u001b[39m 1.1.2     \u001b[32m✔\u001b[39m \u001b[34mstringr\u001b[39m 1.4.0\n",
      "\u001b[32m✔\u001b[39m \u001b[34mreadr  \u001b[39m 1.3.1     \u001b[32m✔\u001b[39m \u001b[34mforcats\u001b[39m 0.5.0\n",
      "\n",
      "Warning message:\n",
      "“package ‘ggplot2’ was built under R version 4.0.1”\n",
      "Warning message:\n",
      "“package ‘tibble’ was built under R version 4.0.2”\n",
      "Warning message:\n",
      "“package ‘tidyr’ was built under R version 4.0.2”\n",
      "Warning message:\n",
      "“package ‘dplyr’ was built under R version 4.0.2”\n",
      "── \u001b[1mConflicts\u001b[22m ────────────────────────────────────────── tidyverse_conflicts() ──\n",
      "\u001b[31m✖\u001b[39m \u001b[34mdplyr\u001b[39m::\u001b[32mfilter()\u001b[39m masks \u001b[34mstats\u001b[39m::filter()\n",
      "\u001b[31m✖\u001b[39m \u001b[34mdplyr\u001b[39m::\u001b[32mlag()\u001b[39m    masks \u001b[34mstats\u001b[39m::lag()\n",
      "\n",
      "Warning message:\n",
      "“package ‘tidymodels’ was built under R version 4.0.2”\n",
      "── \u001b[1mAttaching packages\u001b[22m ────────────────────────────────────── tidymodels 0.1.1 ──\n",
      "\n",
      "\u001b[32m✔\u001b[39m \u001b[34mbroom    \u001b[39m 0.7.0      \u001b[32m✔\u001b[39m \u001b[34mrecipes  \u001b[39m 0.1.13\n",
      "\u001b[32m✔\u001b[39m \u001b[34mdials    \u001b[39m 0.0.9      \u001b[32m✔\u001b[39m \u001b[34mrsample  \u001b[39m 0.0.7 \n",
      "\u001b[32m✔\u001b[39m \u001b[34minfer    \u001b[39m 0.5.4      \u001b[32m✔\u001b[39m \u001b[34mtune     \u001b[39m 0.1.1 \n",
      "\u001b[32m✔\u001b[39m \u001b[34mmodeldata\u001b[39m 0.0.2      \u001b[32m✔\u001b[39m \u001b[34mworkflows\u001b[39m 0.2.0 \n",
      "\u001b[32m✔\u001b[39m \u001b[34mparsnip  \u001b[39m 0.1.3      \u001b[32m✔\u001b[39m \u001b[34myardstick\u001b[39m 0.0.7 \n",
      "\n",
      "Warning message:\n",
      "“package ‘broom’ was built under R version 4.0.2”\n",
      "Warning message:\n",
      "“package ‘dials’ was built under R version 4.0.2”\n",
      "Warning message:\n",
      "“package ‘infer’ was built under R version 4.0.3”\n",
      "Warning message:\n",
      "“package ‘modeldata’ was built under R version 4.0.1”\n",
      "Warning message:\n",
      "“package ‘parsnip’ was built under R version 4.0.2”\n",
      "Warning message:\n",
      "“package ‘recipes’ was built under R version 4.0.1”\n",
      "Warning message:\n",
      "“package ‘tune’ was built under R version 4.0.2”\n",
      "Warning message:\n",
      "“package ‘workflows’ was built under R version 4.0.2”\n",
      "Warning message:\n",
      "“package ‘yardstick’ was built under R version 4.0.2”\n",
      "── \u001b[1mConflicts\u001b[22m ───────────────────────────────────────── tidymodels_conflicts() ──\n",
      "\u001b[31m✖\u001b[39m \u001b[34mscales\u001b[39m::\u001b[32mdiscard()\u001b[39m masks \u001b[34mpurrr\u001b[39m::discard()\n",
      "\u001b[31m✖\u001b[39m \u001b[34mdplyr\u001b[39m::\u001b[32mfilter()\u001b[39m   masks \u001b[34mstats\u001b[39m::filter()\n",
      "\u001b[31m✖\u001b[39m \u001b[34mrecipes\u001b[39m::\u001b[32mfixed()\u001b[39m  masks \u001b[34mstringr\u001b[39m::fixed()\n",
      "\u001b[31m✖\u001b[39m \u001b[34mdplyr\u001b[39m::\u001b[32mlag()\u001b[39m      masks \u001b[34mstats\u001b[39m::lag()\n",
      "\u001b[31m✖\u001b[39m \u001b[34myardstick\u001b[39m::\u001b[32mspec()\u001b[39m masks \u001b[34mreadr\u001b[39m::spec()\n",
      "\u001b[31m✖\u001b[39m \u001b[34mrecipes\u001b[39m::\u001b[32mstep()\u001b[39m   masks \u001b[34mstats\u001b[39m::step()\n",
      "\n",
      "Warning message in file(filename, \"r\", encoding = encoding):\n",
      "“cannot open file 'tests.R': No such file or directory”\n"
     ]
    },
    {
     "ename": "ERROR",
     "evalue": "Error in file(filename, \"r\", encoding = encoding): cannot open the connection\n",
     "output_type": "error",
     "traceback": [
      "Error in file(filename, \"r\", encoding = encoding): cannot open the connection\nTraceback:\n",
      "1. source(\"tests.R\")",
      "2. file(filename, \"r\", encoding = encoding)"
     ]
    }
   ],
   "source": [
    "library(repr)\n",
    "library(tidyverse)\n",
    "library(tidymodels)\n",
    "options(repr.matrix.max.rows = 6)\n",
    "source('tests.R')\n",
    "source(\"cleanup.R\")"
   ]
  },
  {
   "cell_type": "code",
   "execution_count": 2,
   "metadata": {},
   "outputs": [
    {
     "name": "stderr",
     "output_type": "stream",
     "text": [
      "Parsed with column specification:\n",
      "cols(\n",
      "  .default = col_double(),\n",
      "  `Red Blood Cells` = \u001b[31mcol_character()\u001b[39m,\n",
      "  `Pus Cell` = \u001b[31mcol_character()\u001b[39m,\n",
      "  `Pus Cell clumps` = \u001b[31mcol_character()\u001b[39m,\n",
      "  Bacteria = \u001b[31mcol_character()\u001b[39m,\n",
      "  Hypertension = \u001b[31mcol_character()\u001b[39m,\n",
      "  `Diabetes Mellitus` = \u001b[31mcol_character()\u001b[39m,\n",
      "  `Coronary Artery Disease` = \u001b[31mcol_character()\u001b[39m,\n",
      "  Appetite = \u001b[31mcol_character()\u001b[39m,\n",
      "  `Pedal Edema` = \u001b[31mcol_character()\u001b[39m,\n",
      "  Anemia = \u001b[31mcol_character()\u001b[39m\n",
      ")\n",
      "\n",
      "See spec(...) for full column specifications.\n",
      "\n"
     ]
    },
    {
     "data": {
      "text/html": [
       "<table>\n",
       "<caption>A spec_tbl_df: 158 × 25</caption>\n",
       "<thead>\n",
       "\t<tr><th scope=col>Age</th><th scope=col>Blood.Pressure</th><th scope=col>Specific.Gravity</th><th scope=col>Albumin</th><th scope=col>Sugar</th><th scope=col>Red.Blood.Cells</th><th scope=col>Pus.Cell</th><th scope=col>Pus.Cell.clumps</th><th scope=col>Bacteria</th><th scope=col>Blood.Glucose.Random</th><th scope=col>⋯</th><th scope=col>Packed.Cell.Volume</th><th scope=col>White.Blood.Cell.Count</th><th scope=col>Red.Blood.Cell.Count</th><th scope=col>Hypertension</th><th scope=col>Diabetes.Mellitus</th><th scope=col>Coronary.Artery.Disease</th><th scope=col>Appetite</th><th scope=col>Pedal.Edema</th><th scope=col>Anemia</th><th scope=col>Class</th></tr>\n",
       "\t<tr><th scope=col>&lt;dbl&gt;</th><th scope=col>&lt;dbl&gt;</th><th scope=col>&lt;dbl&gt;</th><th scope=col>&lt;dbl&gt;</th><th scope=col>&lt;dbl&gt;</th><th scope=col>&lt;chr&gt;</th><th scope=col>&lt;chr&gt;</th><th scope=col>&lt;chr&gt;</th><th scope=col>&lt;chr&gt;</th><th scope=col>&lt;dbl&gt;</th><th scope=col>⋯</th><th scope=col>&lt;dbl&gt;</th><th scope=col>&lt;dbl&gt;</th><th scope=col>&lt;dbl&gt;</th><th scope=col>&lt;chr&gt;</th><th scope=col>&lt;chr&gt;</th><th scope=col>&lt;chr&gt;</th><th scope=col>&lt;chr&gt;</th><th scope=col>&lt;chr&gt;</th><th scope=col>&lt;chr&gt;</th><th scope=col>&lt;dbl&gt;</th></tr>\n",
       "</thead>\n",
       "<tbody>\n",
       "\t<tr><td>48</td><td>70</td><td>1.005</td><td>4</td><td>0</td><td>normal  </td><td>abnormal</td><td>present</td><td>notpresent</td><td>117</td><td>⋯</td><td>32</td><td> 6700</td><td>3.9</td><td>yes</td><td>no </td><td>no</td><td>poor</td><td>yes</td><td>yes</td><td>1</td></tr>\n",
       "\t<tr><td>53</td><td>90</td><td>1.020</td><td>2</td><td>0</td><td>abnormal</td><td>abnormal</td><td>present</td><td>notpresent</td><td> 70</td><td>⋯</td><td>29</td><td>12100</td><td>3.7</td><td>yes</td><td>yes</td><td>no</td><td>poor</td><td>no </td><td>yes</td><td>1</td></tr>\n",
       "\t<tr><td>63</td><td>70</td><td>1.010</td><td>3</td><td>0</td><td>abnormal</td><td>abnormal</td><td>present</td><td>notpresent</td><td>380</td><td>⋯</td><td>32</td><td> 4500</td><td>3.8</td><td>yes</td><td>yes</td><td>no</td><td>poor</td><td>yes</td><td>no </td><td>1</td></tr>\n",
       "\t<tr><td>⋮</td><td>⋮</td><td>⋮</td><td>⋮</td><td>⋮</td><td>⋮</td><td>⋮</td><td>⋮</td><td>⋮</td><td>⋮</td><td>⋱</td><td>⋮</td><td>⋮</td><td>⋮</td><td>⋮</td><td>⋮</td><td>⋮</td><td>⋮</td><td>⋮</td><td>⋮</td><td>⋮</td></tr>\n",
       "\t<tr><td>12</td><td>80</td><td>1.020</td><td>0</td><td>0</td><td>normal</td><td>normal</td><td>notpresent</td><td>notpresent</td><td>100</td><td>⋯</td><td>49</td><td>6600</td><td>5.4</td><td>no</td><td>no</td><td>no</td><td>good</td><td>no</td><td>no</td><td>0</td></tr>\n",
       "\t<tr><td>17</td><td>60</td><td>1.025</td><td>0</td><td>0</td><td>normal</td><td>normal</td><td>notpresent</td><td>notpresent</td><td>114</td><td>⋯</td><td>51</td><td>7200</td><td>5.9</td><td>no</td><td>no</td><td>no</td><td>good</td><td>no</td><td>no</td><td>0</td></tr>\n",
       "\t<tr><td>58</td><td>80</td><td>1.025</td><td>0</td><td>0</td><td>normal</td><td>normal</td><td>notpresent</td><td>notpresent</td><td>131</td><td>⋯</td><td>53</td><td>6800</td><td>6.1</td><td>no</td><td>no</td><td>no</td><td>good</td><td>no</td><td>no</td><td>0</td></tr>\n",
       "</tbody>\n",
       "</table>\n"
      ],
      "text/latex": [
       "A spec\\_tbl\\_df: 158 × 25\n",
       "\\begin{tabular}{lllllllllllllllllllll}\n",
       " Age & Blood.Pressure & Specific.Gravity & Albumin & Sugar & Red.Blood.Cells & Pus.Cell & Pus.Cell.clumps & Bacteria & Blood.Glucose.Random & ⋯ & Packed.Cell.Volume & White.Blood.Cell.Count & Red.Blood.Cell.Count & Hypertension & Diabetes.Mellitus & Coronary.Artery.Disease & Appetite & Pedal.Edema & Anemia & Class\\\\\n",
       " <dbl> & <dbl> & <dbl> & <dbl> & <dbl> & <chr> & <chr> & <chr> & <chr> & <dbl> & ⋯ & <dbl> & <dbl> & <dbl> & <chr> & <chr> & <chr> & <chr> & <chr> & <chr> & <dbl>\\\\\n",
       "\\hline\n",
       "\t 48 & 70 & 1.005 & 4 & 0 & normal   & abnormal & present & notpresent & 117 & ⋯ & 32 &  6700 & 3.9 & yes & no  & no & poor & yes & yes & 1\\\\\n",
       "\t 53 & 90 & 1.020 & 2 & 0 & abnormal & abnormal & present & notpresent &  70 & ⋯ & 29 & 12100 & 3.7 & yes & yes & no & poor & no  & yes & 1\\\\\n",
       "\t 63 & 70 & 1.010 & 3 & 0 & abnormal & abnormal & present & notpresent & 380 & ⋯ & 32 &  4500 & 3.8 & yes & yes & no & poor & yes & no  & 1\\\\\n",
       "\t ⋮ & ⋮ & ⋮ & ⋮ & ⋮ & ⋮ & ⋮ & ⋮ & ⋮ & ⋮ & ⋱ & ⋮ & ⋮ & ⋮ & ⋮ & ⋮ & ⋮ & ⋮ & ⋮ & ⋮ & ⋮\\\\\n",
       "\t 12 & 80 & 1.020 & 0 & 0 & normal & normal & notpresent & notpresent & 100 & ⋯ & 49 & 6600 & 5.4 & no & no & no & good & no & no & 0\\\\\n",
       "\t 17 & 60 & 1.025 & 0 & 0 & normal & normal & notpresent & notpresent & 114 & ⋯ & 51 & 7200 & 5.9 & no & no & no & good & no & no & 0\\\\\n",
       "\t 58 & 80 & 1.025 & 0 & 0 & normal & normal & notpresent & notpresent & 131 & ⋯ & 53 & 6800 & 6.1 & no & no & no & good & no & no & 0\\\\\n",
       "\\end{tabular}\n"
      ],
      "text/markdown": [
       "\n",
       "A spec_tbl_df: 158 × 25\n",
       "\n",
       "| Age &lt;dbl&gt; | Blood.Pressure &lt;dbl&gt; | Specific.Gravity &lt;dbl&gt; | Albumin &lt;dbl&gt; | Sugar &lt;dbl&gt; | Red.Blood.Cells &lt;chr&gt; | Pus.Cell &lt;chr&gt; | Pus.Cell.clumps &lt;chr&gt; | Bacteria &lt;chr&gt; | Blood.Glucose.Random &lt;dbl&gt; | ⋯ ⋯ | Packed.Cell.Volume &lt;dbl&gt; | White.Blood.Cell.Count &lt;dbl&gt; | Red.Blood.Cell.Count &lt;dbl&gt; | Hypertension &lt;chr&gt; | Diabetes.Mellitus &lt;chr&gt; | Coronary.Artery.Disease &lt;chr&gt; | Appetite &lt;chr&gt; | Pedal.Edema &lt;chr&gt; | Anemia &lt;chr&gt; | Class &lt;dbl&gt; |\n",
       "|---|---|---|---|---|---|---|---|---|---|---|---|---|---|---|---|---|---|---|---|---|\n",
       "| 48 | 70 | 1.005 | 4 | 0 | normal   | abnormal | present | notpresent | 117 | ⋯ | 32 |  6700 | 3.9 | yes | no  | no | poor | yes | yes | 1 |\n",
       "| 53 | 90 | 1.020 | 2 | 0 | abnormal | abnormal | present | notpresent |  70 | ⋯ | 29 | 12100 | 3.7 | yes | yes | no | poor | no  | yes | 1 |\n",
       "| 63 | 70 | 1.010 | 3 | 0 | abnormal | abnormal | present | notpresent | 380 | ⋯ | 32 |  4500 | 3.8 | yes | yes | no | poor | yes | no  | 1 |\n",
       "| ⋮ | ⋮ | ⋮ | ⋮ | ⋮ | ⋮ | ⋮ | ⋮ | ⋮ | ⋮ | ⋱ | ⋮ | ⋮ | ⋮ | ⋮ | ⋮ | ⋮ | ⋮ | ⋮ | ⋮ | ⋮ |\n",
       "| 12 | 80 | 1.020 | 0 | 0 | normal | normal | notpresent | notpresent | 100 | ⋯ | 49 | 6600 | 5.4 | no | no | no | good | no | no | 0 |\n",
       "| 17 | 60 | 1.025 | 0 | 0 | normal | normal | notpresent | notpresent | 114 | ⋯ | 51 | 7200 | 5.9 | no | no | no | good | no | no | 0 |\n",
       "| 58 | 80 | 1.025 | 0 | 0 | normal | normal | notpresent | notpresent | 131 | ⋯ | 53 | 6800 | 6.1 | no | no | no | good | no | no | 0 |\n",
       "\n"
      ],
      "text/plain": [
       "    Age Blood.Pressure Specific.Gravity Albumin Sugar Red.Blood.Cells Pus.Cell\n",
       "1   48  70             1.005            4       0     normal          abnormal\n",
       "2   53  90             1.020            2       0     abnormal        abnormal\n",
       "3   63  70             1.010            3       0     abnormal        abnormal\n",
       "⋮   ⋮   ⋮              ⋮                ⋮       ⋮     ⋮               ⋮       \n",
       "156 12  80             1.020            0       0     normal          normal  \n",
       "157 17  60             1.025            0       0     normal          normal  \n",
       "158 58  80             1.025            0       0     normal          normal  \n",
       "    Pus.Cell.clumps Bacteria   Blood.Glucose.Random ⋯ Packed.Cell.Volume\n",
       "1   present         notpresent 117                  ⋯ 32                \n",
       "2   present         notpresent  70                  ⋯ 29                \n",
       "3   present         notpresent 380                  ⋯ 32                \n",
       "⋮   ⋮               ⋮          ⋮                    ⋱ ⋮                 \n",
       "156 notpresent      notpresent 100                  ⋯ 49                \n",
       "157 notpresent      notpresent 114                  ⋯ 51                \n",
       "158 notpresent      notpresent 131                  ⋯ 53                \n",
       "    White.Blood.Cell.Count Red.Blood.Cell.Count Hypertension Diabetes.Mellitus\n",
       "1    6700                  3.9                  yes          no               \n",
       "2   12100                  3.7                  yes          yes              \n",
       "3    4500                  3.8                  yes          yes              \n",
       "⋮   ⋮                      ⋮                    ⋮            ⋮                \n",
       "156 6600                   5.4                  no           no               \n",
       "157 7200                   5.9                  no           no               \n",
       "158 6800                   6.1                  no           no               \n",
       "    Coronary.Artery.Disease Appetite Pedal.Edema Anemia Class\n",
       "1   no                      poor     yes         yes    1    \n",
       "2   no                      poor     no          yes    1    \n",
       "3   no                      poor     yes         no     1    \n",
       "⋮   ⋮                       ⋮        ⋮           ⋮      ⋮    \n",
       "156 no                      good     no          no     0    \n",
       "157 no                      good     no          no     0    \n",
       "158 no                      good     no          no     0    "
      ]
     },
     "metadata": {},
     "output_type": "display_data"
    }
   ],
   "source": [
    "ckd_data <- read_csv(\"ckd_clean.csv\")\n",
    "names(ckd_data) <- make.names(names(ckd_data), unique = TRUE)\n",
    "ckd_data"
   ]
  },
  {
   "cell_type": "code",
   "execution_count": 4,
   "metadata": {},
   "outputs": [
    {
     "name": "stderr",
     "output_type": "stream",
     "text": [
      "`summarise()` ungrouping output (override with `.groups` argument)\n",
      "\n"
     ]
    },
    {
     "data": {
      "text/html": [
       "<table>\n",
       "<caption>A tibble: 2 × 2</caption>\n",
       "<thead>\n",
       "\t<tr><th scope=col>Diabetes.Mellitus</th><th scope=col>n</th></tr>\n",
       "\t<tr><th scope=col>&lt;chr&gt;</th><th scope=col>&lt;int&gt;</th></tr>\n",
       "</thead>\n",
       "<tbody>\n",
       "\t<tr><td>no </td><td>39</td></tr>\n",
       "\t<tr><td>yes</td><td> 9</td></tr>\n",
       "</tbody>\n",
       "</table>\n"
      ],
      "text/latex": [
       "A tibble: 2 × 2\n",
       "\\begin{tabular}{ll}\n",
       " Diabetes.Mellitus & n\\\\\n",
       " <chr> & <int>\\\\\n",
       "\\hline\n",
       "\t no  & 39\\\\\n",
       "\t yes &  9\\\\\n",
       "\\end{tabular}\n"
      ],
      "text/markdown": [
       "\n",
       "A tibble: 2 × 2\n",
       "\n",
       "| Diabetes.Mellitus &lt;chr&gt; | n &lt;int&gt; |\n",
       "|---|---|\n",
       "| no  | 39 |\n",
       "| yes |  9 |\n",
       "\n"
      ],
      "text/plain": [
       "  Diabetes.Mellitus n \n",
       "1 no                39\n",
       "2 yes                9"
      ]
     },
     "metadata": {},
     "output_type": "display_data"
    }
   ],
   "source": [
    "#summarize the data in at least one table.\n",
    "set.seed(150)\n",
    "ckd_split <- initial_split(ckd_data, prop = 0.30, strata = Diabetes.Mellitus)  \n",
    "ckd_training <- training(ckd_split)\n",
    "\n",
    "ckd_ex_summarize <- ckd_training %>% \n",
    "                 group_by(Diabetes.Mellitus) %>%\n",
    "                 summarize(n = n()) \n",
    "ckd_ex_summarize"
   ]
  },
  {
   "cell_type": "code",
   "execution_count": 5,
   "metadata": {},
   "outputs": [
    {
     "data": {
      "image/png": "[encoded data removed]",
      "text/plain": [
       "plot without title"
      ]
     },
     "metadata": {
      "image/png": {
       "height": 420,
       "width": 420
      }
     },
     "output_type": "display_data"
    }
   ],
   "source": [
    "#visualize the data with at least one plot relevant to the analysis you plan to do.\n",
    "ckd_ex_plot <- ckd_training %>%\n",
    "               ggplot(aes(x = Blood.Urea, y = Age, colour = Diabetes.Mellitus)) +\n",
    "               geom_point() +\n",
    "               labs(x = \"Age\", y = \"Blood Urea\", title = \"Diabetes Vs Age and Blood Urea\", colour = \"Diabetes\") +\n",
    "               theme(text = element_text(size = 17))\n",
    "ckd_ex_plot"
   ]
  },
  {
   "cell_type": "markdown",
   "metadata": {},
   "source": [
    "# Methods"
   ]
  },
  {
   "cell_type": "markdown",
   "metadata": {},
   "source": [
    "Some factors that can influence whether a person has chronic kidney disease are age, blood pressure, diabetes, albumin, blood urea, hypertension, diabetes mellitus, coronary artery disease. As such, we will utilize these as variables in order to determine if they possess a relationship with CKD and can be used as reliable indicators for CKD. We plan on utilizing classification in order to predict whether a new patient/observation point on our graph is likely to possess CKD or not. \n",
    "\n",
    "For our visualization we plan on making a scatter plot with age on the x axis, blood pressure on the y axis, and color code our points on the plot to indicate whether they have diabetes or not. Another potential scatter plot visualization we may utilize would have age on the x-axis, blood urea on the y-axis, with the points’ shape and color indicating whether the individual has CDK or not.\n"
   ]
  },
  {
   "cell_type": "markdown",
   "metadata": {},
   "source": [
    "# Expected outcomes and significance "
   ]
  },
  {
   "cell_type": "markdown",
   "metadata": {},
   "source": [
    "We believe that based on the measured variables in this data set, the higher value of each observed in a patient can lead to possessing CKD.  The impact of such finding could lead to advances in the medical field and finding new ways to treat patients. Future studies can look more in depth on variables that were shown to have a higher influence. "
   ]
  },
  {
   "cell_type": "code",
   "execution_count": null,
   "metadata": {},
   "outputs": [],
   "source": []
  }
 ],
 "metadata": {
  "kernelspec": {
   "display_name": "R",
   "language": "R",
   "name": "ir"
  },
  "language_info": {
   "codemirror_mode": "r",
   "file_extension": ".r",
   "mimetype": "text/x-r-source",
   "name": "R",
   "pygments_lexer": "r",
   "version": "4.0.0"
  }
 },
 "nbformat": 4,
 "nbformat_minor": 4
}
