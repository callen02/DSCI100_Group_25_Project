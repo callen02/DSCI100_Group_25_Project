{
 "cells": [
  {
   "cell_type": "markdown",
   "metadata": {},
   "source": [
    "Introduction\n",
    "\n",
    "Chronic kidney disease (CKD) refers to a gradual loss and impairment of the kidneys' functions in filtering wastes and excess fluids from the blood. In the intial stages of CKD, signs and symtoms can be minimal. However, in advanced CKD, as dangerous levels of fluid and wastes build up within the body, symptoms can include persistent high blood pressure (hypertension) that is difficult to control, shortness of breath due to fluiud build-up in the lungs, among others. Conditions and diseases often associated with an increased risk of CKD include: type 1 or type 2 diabetes, high blood pressure/hypertension, smoking, obesity, older age, as well as, cardiovascular disease. Utilizing ckd_clean.csv, which includes data regarding measures of 400 patients, 250 of those with CKD (Class 1) and the remaining 150 rows without CKD (Class 0), we will attempt to classify a new observation/patient as possessing CKD or not possessing CKD. The measures we will be utilizing in order to perform this classification are age, blood pressure, albumin, blood urea, hypertension, diabetes mellitus, coronary artery disease, and the presence of pus cells in urine. "
   ]
  },
  {
   "cell_type": "markdown",
   "metadata": {},
   "source": [
    "Preliminary Exploratory Data Analysis"
   ]
  },
  {
   "cell_type": "code",
   "execution_count": 10,
   "metadata": {},
   "outputs": [
    {
     "name": "stderr",
     "output_type": "stream",
     "text": [
      "Warning message in file(filename, \"r\", encoding = encoding):\n",
      "“cannot open file 'cleanup.R': No such file or directory”\n"
     ]
    },
    {
     "ename": "ERROR",
     "evalue": "Error in file(filename, \"r\", encoding = encoding): cannot open the connection\n",
     "output_type": "error",
     "traceback": [
      "Error in file(filename, \"r\", encoding = encoding): cannot open the connection\nTraceback:\n",
      "1. source(\"cleanup.R\")",
      "2. file(filename, \"r\", encoding = encoding)"
     ]
    }
   ],
   "source": [
    "library(repr)\n",
    "library(tidyverse)\n",
    "library(tidymodels)\n",
    "options(repr.matrix.max.rows = 6)\n",
    "source('cleanup.R')"
   ]
  },
  {
   "cell_type": "code",
   "execution_count": 11,
   "metadata": {},
   "outputs": [
    {
     "name": "stderr",
     "output_type": "stream",
     "text": [
      "Parsed with column specification:\n",
      "cols(\n",
      "  .default = col_double(),\n",
      "  `Red Blood Cells` = \u001b[31mcol_character()\u001b[39m,\n",
      "  `Pus Cell` = \u001b[31mcol_character()\u001b[39m,\n",
      "  `Pus Cell clumps` = \u001b[31mcol_character()\u001b[39m,\n",
      "  Bacteria = \u001b[31mcol_character()\u001b[39m,\n",
      "  Hypertension = \u001b[31mcol_character()\u001b[39m,\n",
      "  `Diabetes Mellitus` = \u001b[31mcol_character()\u001b[39m,\n",
      "  `Coronary Artery Disease` = \u001b[31mcol_character()\u001b[39m,\n",
      "  Appetite = \u001b[31mcol_character()\u001b[39m,\n",
      "  `Pedal Edema` = \u001b[31mcol_character()\u001b[39m,\n",
      "  Anemia = \u001b[31mcol_character()\u001b[39m\n",
      ")\n",
      "\n",
      "See spec(...) for full column specifications.\n",
      "\n"
     ]
    },
    {
     "data": {
      "text/html": [
       "<table>\n",
       "<caption>A spec_tbl_df: 158 × 25</caption>\n",
       "<thead>\n",
       "\t<tr><th scope=col>Age</th><th scope=col>Blood Pressure</th><th scope=col>Specific Gravity</th><th scope=col>Albumin</th><th scope=col>Sugar</th><th scope=col>Red Blood Cells</th><th scope=col>Pus Cell</th><th scope=col>Pus Cell clumps</th><th scope=col>Bacteria</th><th scope=col>Blood Glucose Random</th><th scope=col>⋯</th><th scope=col>Packed Cell Volume</th><th scope=col>White Blood Cell Count</th><th scope=col>Red Blood Cell Count</th><th scope=col>Hypertension</th><th scope=col>Diabetes Mellitus</th><th scope=col>Coronary Artery Disease</th><th scope=col>Appetite</th><th scope=col>Pedal Edema</th><th scope=col>Anemia</th><th scope=col>Class</th></tr>\n",
       "\t<tr><th scope=col>&lt;dbl&gt;</th><th scope=col>&lt;dbl&gt;</th><th scope=col>&lt;dbl&gt;</th><th scope=col>&lt;dbl&gt;</th><th scope=col>&lt;dbl&gt;</th><th scope=col>&lt;chr&gt;</th><th scope=col>&lt;chr&gt;</th><th scope=col>&lt;chr&gt;</th><th scope=col>&lt;chr&gt;</th><th scope=col>&lt;dbl&gt;</th><th scope=col>⋯</th><th scope=col>&lt;dbl&gt;</th><th scope=col>&lt;dbl&gt;</th><th scope=col>&lt;dbl&gt;</th><th scope=col>&lt;chr&gt;</th><th scope=col>&lt;chr&gt;</th><th scope=col>&lt;chr&gt;</th><th scope=col>&lt;chr&gt;</th><th scope=col>&lt;chr&gt;</th><th scope=col>&lt;chr&gt;</th><th scope=col>&lt;dbl&gt;</th></tr>\n",
       "</thead>\n",
       "<tbody>\n",
       "\t<tr><td>48</td><td>70</td><td>1.005</td><td>4</td><td>0</td><td>normal  </td><td>abnormal</td><td>present</td><td>notpresent</td><td>117</td><td>⋯</td><td>32</td><td> 6700</td><td>3.9</td><td>yes</td><td>no </td><td>no</td><td>poor</td><td>yes</td><td>yes</td><td>1</td></tr>\n",
       "\t<tr><td>53</td><td>90</td><td>1.020</td><td>2</td><td>0</td><td>abnormal</td><td>abnormal</td><td>present</td><td>notpresent</td><td> 70</td><td>⋯</td><td>29</td><td>12100</td><td>3.7</td><td>yes</td><td>yes</td><td>no</td><td>poor</td><td>no </td><td>yes</td><td>1</td></tr>\n",
       "\t<tr><td>63</td><td>70</td><td>1.010</td><td>3</td><td>0</td><td>abnormal</td><td>abnormal</td><td>present</td><td>notpresent</td><td>380</td><td>⋯</td><td>32</td><td> 4500</td><td>3.8</td><td>yes</td><td>yes</td><td>no</td><td>poor</td><td>yes</td><td>no </td><td>1</td></tr>\n",
       "\t<tr><td>⋮</td><td>⋮</td><td>⋮</td><td>⋮</td><td>⋮</td><td>⋮</td><td>⋮</td><td>⋮</td><td>⋮</td><td>⋮</td><td>⋱</td><td>⋮</td><td>⋮</td><td>⋮</td><td>⋮</td><td>⋮</td><td>⋮</td><td>⋮</td><td>⋮</td><td>⋮</td><td>⋮</td></tr>\n",
       "\t<tr><td>12</td><td>80</td><td>1.020</td><td>0</td><td>0</td><td>normal</td><td>normal</td><td>notpresent</td><td>notpresent</td><td>100</td><td>⋯</td><td>49</td><td>6600</td><td>5.4</td><td>no</td><td>no</td><td>no</td><td>good</td><td>no</td><td>no</td><td>0</td></tr>\n",
       "\t<tr><td>17</td><td>60</td><td>1.025</td><td>0</td><td>0</td><td>normal</td><td>normal</td><td>notpresent</td><td>notpresent</td><td>114</td><td>⋯</td><td>51</td><td>7200</td><td>5.9</td><td>no</td><td>no</td><td>no</td><td>good</td><td>no</td><td>no</td><td>0</td></tr>\n",
       "\t<tr><td>58</td><td>80</td><td>1.025</td><td>0</td><td>0</td><td>normal</td><td>normal</td><td>notpresent</td><td>notpresent</td><td>131</td><td>⋯</td><td>53</td><td>6800</td><td>6.1</td><td>no</td><td>no</td><td>no</td><td>good</td><td>no</td><td>no</td><td>0</td></tr>\n",
       "</tbody>\n",
       "</table>\n"
      ],
      "text/latex": [
       "A spec\\_tbl\\_df: 158 × 25\n",
       "\\begin{tabular}{lllllllllllllllllllll}\n",
       " Age & Blood Pressure & Specific Gravity & Albumin & Sugar & Red Blood Cells & Pus Cell & Pus Cell clumps & Bacteria & Blood Glucose Random & ⋯ & Packed Cell Volume & White Blood Cell Count & Red Blood Cell Count & Hypertension & Diabetes Mellitus & Coronary Artery Disease & Appetite & Pedal Edema & Anemia & Class\\\\\n",
       " <dbl> & <dbl> & <dbl> & <dbl> & <dbl> & <chr> & <chr> & <chr> & <chr> & <dbl> & ⋯ & <dbl> & <dbl> & <dbl> & <chr> & <chr> & <chr> & <chr> & <chr> & <chr> & <dbl>\\\\\n",
       "\\hline\n",
       "\t 48 & 70 & 1.005 & 4 & 0 & normal   & abnormal & present & notpresent & 117 & ⋯ & 32 &  6700 & 3.9 & yes & no  & no & poor & yes & yes & 1\\\\\n",
       "\t 53 & 90 & 1.020 & 2 & 0 & abnormal & abnormal & present & notpresent &  70 & ⋯ & 29 & 12100 & 3.7 & yes & yes & no & poor & no  & yes & 1\\\\\n",
       "\t 63 & 70 & 1.010 & 3 & 0 & abnormal & abnormal & present & notpresent & 380 & ⋯ & 32 &  4500 & 3.8 & yes & yes & no & poor & yes & no  & 1\\\\\n",
       "\t ⋮ & ⋮ & ⋮ & ⋮ & ⋮ & ⋮ & ⋮ & ⋮ & ⋮ & ⋮ & ⋱ & ⋮ & ⋮ & ⋮ & ⋮ & ⋮ & ⋮ & ⋮ & ⋮ & ⋮ & ⋮\\\\\n",
       "\t 12 & 80 & 1.020 & 0 & 0 & normal & normal & notpresent & notpresent & 100 & ⋯ & 49 & 6600 & 5.4 & no & no & no & good & no & no & 0\\\\\n",
       "\t 17 & 60 & 1.025 & 0 & 0 & normal & normal & notpresent & notpresent & 114 & ⋯ & 51 & 7200 & 5.9 & no & no & no & good & no & no & 0\\\\\n",
       "\t 58 & 80 & 1.025 & 0 & 0 & normal & normal & notpresent & notpresent & 131 & ⋯ & 53 & 6800 & 6.1 & no & no & no & good & no & no & 0\\\\\n",
       "\\end{tabular}\n"
      ],
      "text/markdown": [
       "\n",
       "A spec_tbl_df: 158 × 25\n",
       "\n",
       "| Age &lt;dbl&gt; | Blood Pressure &lt;dbl&gt; | Specific Gravity &lt;dbl&gt; | Albumin &lt;dbl&gt; | Sugar &lt;dbl&gt; | Red Blood Cells &lt;chr&gt; | Pus Cell &lt;chr&gt; | Pus Cell clumps &lt;chr&gt; | Bacteria &lt;chr&gt; | Blood Glucose Random &lt;dbl&gt; | ⋯ ⋯ | Packed Cell Volume &lt;dbl&gt; | White Blood Cell Count &lt;dbl&gt; | Red Blood Cell Count &lt;dbl&gt; | Hypertension &lt;chr&gt; | Diabetes Mellitus &lt;chr&gt; | Coronary Artery Disease &lt;chr&gt; | Appetite &lt;chr&gt; | Pedal Edema &lt;chr&gt; | Anemia &lt;chr&gt; | Class &lt;dbl&gt; |\n",
       "|---|---|---|---|---|---|---|---|---|---|---|---|---|---|---|---|---|---|---|---|---|\n",
       "| 48 | 70 | 1.005 | 4 | 0 | normal   | abnormal | present | notpresent | 117 | ⋯ | 32 |  6700 | 3.9 | yes | no  | no | poor | yes | yes | 1 |\n",
       "| 53 | 90 | 1.020 | 2 | 0 | abnormal | abnormal | present | notpresent |  70 | ⋯ | 29 | 12100 | 3.7 | yes | yes | no | poor | no  | yes | 1 |\n",
       "| 63 | 70 | 1.010 | 3 | 0 | abnormal | abnormal | present | notpresent | 380 | ⋯ | 32 |  4500 | 3.8 | yes | yes | no | poor | yes | no  | 1 |\n",
       "| ⋮ | ⋮ | ⋮ | ⋮ | ⋮ | ⋮ | ⋮ | ⋮ | ⋮ | ⋮ | ⋱ | ⋮ | ⋮ | ⋮ | ⋮ | ⋮ | ⋮ | ⋮ | ⋮ | ⋮ | ⋮ |\n",
       "| 12 | 80 | 1.020 | 0 | 0 | normal | normal | notpresent | notpresent | 100 | ⋯ | 49 | 6600 | 5.4 | no | no | no | good | no | no | 0 |\n",
       "| 17 | 60 | 1.025 | 0 | 0 | normal | normal | notpresent | notpresent | 114 | ⋯ | 51 | 7200 | 5.9 | no | no | no | good | no | no | 0 |\n",
       "| 58 | 80 | 1.025 | 0 | 0 | normal | normal | notpresent | notpresent | 131 | ⋯ | 53 | 6800 | 6.1 | no | no | no | good | no | no | 0 |\n",
       "\n"
      ],
      "text/plain": [
       "    Age Blood Pressure Specific Gravity Albumin Sugar Red Blood Cells Pus Cell\n",
       "1   48  70             1.005            4       0     normal          abnormal\n",
       "2   53  90             1.020            2       0     abnormal        abnormal\n",
       "3   63  70             1.010            3       0     abnormal        abnormal\n",
       "⋮   ⋮   ⋮              ⋮                ⋮       ⋮     ⋮               ⋮       \n",
       "156 12  80             1.020            0       0     normal          normal  \n",
       "157 17  60             1.025            0       0     normal          normal  \n",
       "158 58  80             1.025            0       0     normal          normal  \n",
       "    Pus Cell clumps Bacteria   Blood Glucose Random ⋯ Packed Cell Volume\n",
       "1   present         notpresent 117                  ⋯ 32                \n",
       "2   present         notpresent  70                  ⋯ 29                \n",
       "3   present         notpresent 380                  ⋯ 32                \n",
       "⋮   ⋮               ⋮          ⋮                    ⋱ ⋮                 \n",
       "156 notpresent      notpresent 100                  ⋯ 49                \n",
       "157 notpresent      notpresent 114                  ⋯ 51                \n",
       "158 notpresent      notpresent 131                  ⋯ 53                \n",
       "    White Blood Cell Count Red Blood Cell Count Hypertension Diabetes Mellitus\n",
       "1    6700                  3.9                  yes          no               \n",
       "2   12100                  3.7                  yes          yes              \n",
       "3    4500                  3.8                  yes          yes              \n",
       "⋮   ⋮                      ⋮                    ⋮            ⋮                \n",
       "156 6600                   5.4                  no           no               \n",
       "157 7200                   5.9                  no           no               \n",
       "158 6800                   6.1                  no           no               \n",
       "    Coronary Artery Disease Appetite Pedal Edema Anemia Class\n",
       "1   no                      poor     yes         yes    1    \n",
       "2   no                      poor     no          yes    1    \n",
       "3   no                      poor     yes         no     1    \n",
       "⋮   ⋮                       ⋮        ⋮           ⋮      ⋮    \n",
       "156 no                      good     no          no     0    \n",
       "157 no                      good     no          no     0    \n",
       "158 no                      good     no          no     0    "
      ]
     },
     "metadata": {},
     "output_type": "display_data"
    }
   ],
   "source": [
    "ckd_data <- read_csv(\"ckd_clean.csv\")\n",
    "ckd_data"
   ]
  },
  {
   "cell_type": "markdown",
   "metadata": {},
   "source": [
    "Expected Outcomes and Significance \n",
    "\n",
    "We believe that based ont the measures variables in this data set, the higher value of each observed in a patient can lead to possessing CKD. \n"
   ]
  },
  {
   "cell_type": "code",
   "execution_count": null,
   "metadata": {},
   "outputs": [],
   "source": []
  }
 ],
 "metadata": {
  "kernelspec": {
   "display_name": "R",
   "language": "R",
   "name": "ir"
  },
  "language_info": {
   "codemirror_mode": "r",
   "file_extension": ".r",
   "mimetype": "text/x-r-source",
   "name": "R",
   "pygments_lexer": "r",
   "version": "4.0.0"
  }
 },
 "nbformat": 4,
 "nbformat_minor": 4
}
