{
 "cells": [
  {
   "cell_type": "markdown",
   "metadata": {},
   "source": [
    "### Introduction"
   ]
  },
  {
   "cell_type": "markdown",
   "metadata": {},
   "source": [
    "   Chronic kidney disease (CKD) refers to a gradual loss and impairment of the kidneys' functions in filtering wastes and excess fluids from the blood. In the initial stages of CKD, signs and symtoms can be minimal. However, in advanced CKD, as dangerous levels of fluid and wastes build up within the body, a diverse array of symptoms may begin presenting. Some of the most common advanced symtoms include: persistent hypertension, shortness of breath, chest pain, and increased or decreased urination. In many people, treatment in the early stages of CKD can prevent or slow down progression through to later stages of CKD and kidney failure. Thus, early detection of CKD is essential in order to increase the ease of treatment. \n",
    "\n",
    "   Utilizing ckd_clean.csv, which includes blood test data regarding measures of 400 patients, 250 of those with CKD (Class 1) and the remaining 150 rows without CKD (Class 0), we aim to provide an answer to the question: what factors are highly correlated with the class of chronic kidney disease? By finding highly correlated factors, we can attempt to classify patients as Class 1 or Class 0 by utilizing their values for the correlated measures. \n",
    "    \n",
    "   Each row in the orignal data file corresponds to a single patients' values for each variable, with all rows that contained missing values already dropped. In order to determine which variables possess a strong correlation with CKD, we will utilize a correlation matrix, and subsequently select those variables from the dataset in order to make our classification recipe, model, and workflow. We will tune for neighbours in order to determine the optimal k-value and refine our model utilizing this value, before finally using ggplot to vizualize the relationship between our variables and the class of CKD.\n",
    "\n"
   ]
  },
  {
   "cell_type": "code",
   "execution_count": null,
   "metadata": {},
   "outputs": [],
   "source": []
  }
 ],
 "metadata": {
  "kernelspec": {
   "display_name": "R",
   "language": "R",
   "name": "ir"
  },
  "language_info": {
   "codemirror_mode": "r",
   "file_extension": ".r",
   "mimetype": "text/x-r-source",
   "name": "R",
   "pygments_lexer": "r",
   "version": "4.0.0"
  }
 },
 "nbformat": 4,
 "nbformat_minor": 4
}
